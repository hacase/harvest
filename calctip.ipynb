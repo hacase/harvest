{
 "cells": [
  {
   "cell_type": "code",
   "execution_count": 1,
   "id": "482912f6-8048-4960-9779-b3c9d6449d0e",
   "metadata": {},
   "outputs": [],
   "source": [
    "import numpy as np\n",
    "import sys\n",
    "import os\n",
    "import textwrap\n",
    "from datetime import date as dt, datetime\n",
    "import texts as tx"
   ]
  },
  {
   "cell_type": "code",
   "execution_count": 1,
   "id": "353d0f4a-06d9-4ac1-b80b-da22287d4c9a",
   "metadata": {},
   "outputs": [
    {
     "name": "stdout",
     "output_type": "stream",
     "text": [
      "hi\n"
     ]
    }
   ],
   "source": [
    "lists=[4.5,4.5,4.5,2.3]\n",
    "seco = [int(i) for i in lists]\n",
    "if lists != seco:\n",
    "    print('hi')"
   ]
  },
  {
   "cell_type": "code",
   "execution_count": 15,
   "id": "b93ea2c8-80f0-4397-b795-fe3e40069046",
   "metadata": {},
   "outputs": [
    {
     "data": {
      "text/plain": [
       "4.2"
      ]
     },
     "execution_count": 15,
     "metadata": {},
     "output_type": "execute_result"
    }
   ],
   "source": [
    "np.around(4.25, decimals=1)"
   ]
  },
  {
   "cell_type": "code",
   "execution_count": 34,
   "id": "cb901c16-0da5-4179-a0a0-08f9ee838eb6",
   "metadata": {},
   "outputs": [
    {
     "data": {
      "text/plain": [
       "'4.0     |'"
      ]
     },
     "execution_count": 34,
     "metadata": {},
     "output_type": "execute_result"
    }
   ],
   "source": [
    "this=float(4)\n",
    "'{0: <8}|'.format(this)"
   ]
  },
  {
   "cell_type": "code",
   "execution_count": 1,
   "id": "2fbe4cc3-ea1f-4ed1-b03c-b7831fbdcff0",
   "metadata": {},
   "outputs": [
    {
     "ename": "NameError",
     "evalue": "name 'name' is not defined",
     "output_type": "error",
     "traceback": [
      "\u001b[0;31m---------------------------------------------------------------------------\u001b[0m",
      "\u001b[0;31mNameError\u001b[0m                                 Traceback (most recent call last)",
      "\u001b[0;32m<ipython-input-1-80501154bc48>\u001b[0m in \u001b[0;36m<module>\u001b[0;34m\u001b[0m\n\u001b[0;32m----> 1\u001b[0;31m \u001b[0;32mfor\u001b[0m \u001b[0mi\u001b[0m \u001b[0;32min\u001b[0m \u001b[0mrange\u001b[0m\u001b[0;34m(\u001b[0m\u001b[0mlen\u001b[0m\u001b[0;34m(\u001b[0m\u001b[0mname\u001b[0m\u001b[0;34m)\u001b[0m\u001b[0;34m)\u001b[0m\u001b[0;34m:\u001b[0m\u001b[0;34m\u001b[0m\u001b[0;34m\u001b[0m\u001b[0m\n\u001b[0m\u001b[1;32m      2\u001b[0m     \u001b[0mprint\u001b[0m\u001b[0;34m(\u001b[0m\u001b[0;34m'{num:{width}}'\u001b[0m\u001b[0;34m.\u001b[0m\u001b[0mformat\u001b[0m\u001b[0;34m(\u001b[0m\u001b[0mnum\u001b[0m \u001b[0;34m=\u001b[0m \u001b[0mname\u001b[0m\u001b[0;34m[\u001b[0m\u001b[0mi\u001b[0m\u001b[0;34m]\u001b[0m\u001b[0;34m,\u001b[0m \u001b[0mwidth\u001b[0m \u001b[0;34m=\u001b[0m \u001b[0mmaxstr\u001b[0m\u001b[0;34m)\u001b[0m\u001b[0;34m,\u001b[0m \u001b[0;34mf' {hour[i]:4.2f}h'\u001b[0m\u001b[0;34m,\u001b[0m \u001b[0;34mf' -> {roundtip[i]:5.1f}€'\u001b[0m\u001b[0;34m,\u001b[0m \u001b[0;34mf' #  {realtip[i]:5.2f}'\u001b[0m\u001b[0;34m)\u001b[0m\u001b[0;34m\u001b[0m\u001b[0;34m\u001b[0m\u001b[0m\n\u001b[1;32m      3\u001b[0m \u001b[0;34m\u001b[0m\u001b[0m\n",
      "\u001b[0;31mNameError\u001b[0m: name 'name' is not defined"
     ]
    }
   ],
   "source": [
    "\n",
    "for i in range(len(name)):\n",
    "    print('{num:{width}}'.format(num = name[i], width = maxstr), f' {hour[i]:4.2f}h', f' -> {roundtip[i]:5.1f}€', f' #  {realtip[i]:5.2f}')\n",
    "    "
   ]
  },
  {
   "cell_type": "code",
   "execution_count": 3,
   "id": "3702fbd2-9622-4f4a-a102-6cc4453282fa",
   "metadata": {},
   "outputs": [
    {
     "name": "stdout",
     "output_type": "stream",
     "text": [
      "exit\n"
     ]
    }
   ],
   "source": [
    "import sys\n",
    "\n",
    "def abort(var):\n",
    "    if var == 'exit':\n",
    "        print(var)\n",
    "        \n",
    "abort('exit')        "
   ]
  },
  {
   "cell_type": "code",
   "execution_count": 6,
   "id": "af891c98-f040-47be-b2d9-0b3b90144a1f",
   "metadata": {},
   "outputs": [
    {
     "ename": "SystemExit",
     "evalue": "",
     "output_type": "error",
     "traceback": [
      "An exception has occurred, use %tb to see the full traceback.\n",
      "\u001b[0;31mSystemExit\u001b[0m\n"
     ]
    }
   ],
   "source": [
    "import sys\n",
    "\n",
    "def abort(var):\n",
    "    if var == 'exit':\n",
    "        sys.exit()\n",
    "        \n",
    "abort('exit') "
   ]
  },
  {
   "cell_type": "code",
   "execution_count": 8,
   "id": "c54b88b0-a307-4c77-b8dd-8a6dcd325f07",
   "metadata": {},
   "outputs": [
    {
     "data": {
      "text/plain": [
       "'23.7'"
      ]
     },
     "execution_count": 8,
     "metadata": {},
     "output_type": "execute_result"
    }
   ],
   "source": [
    "value = '23.7'\n",
    "value.replace(',', '.')"
   ]
  },
  {
   "cell_type": "code",
   "execution_count": 9,
   "id": "0774a42d-d15d-4aa7-b82d-385fe3cc8592",
   "metadata": {},
   "outputs": [
    {
     "ename": "SyntaxError",
     "evalue": "invalid syntax (<ipython-input-9-ebc2d024566e>, line 1)",
     "output_type": "error",
     "traceback": [
      "\u001b[0;36m  File \u001b[0;32m\"<ipython-input-9-ebc2d024566e>\"\u001b[0;36m, line \u001b[0;32m1\u001b[0m\n\u001b[0;31m    3*\u001b[0m\n\u001b[0m      ^\u001b[0m\n\u001b[0;31mSyntaxError\u001b[0m\u001b[0;31m:\u001b[0m invalid syntax\n"
     ]
    }
   ],
   "source": [
    "3*\n",
    "4"
   ]
  },
  {
   "cell_type": "code",
   "execution_count": 9,
   "id": "066f83d7-4002-4fd7-aa24-deb7a5b26255",
   "metadata": {},
   "outputs": [
    {
     "data": {
      "text/plain": [
       "3.0"
      ]
     },
     "execution_count": 9,
     "metadata": {},
     "output_type": "execute_result"
    }
   ],
   "source": [
    "value='3'\n",
    "float(value)"
   ]
  },
  {
   "cell_type": "code",
   "execution_count": 44,
   "id": "c5ec341c-4244-4c4f-a014-97f7dfedb67b",
   "metadata": {},
   "outputs": [
    {
     "name": "stdout",
     "output_type": "stream",
     "text": [
      "tip adjusted correctly\n",
      "0 8\n",
      "1 6\n",
      "2 5\n",
      "3 3\n",
      "4 1\n",
      "5 0\n",
      "6 8\n",
      "7 7\n",
      "[2]\n",
      "10.213\n",
      "---------------------------------\n",
      "name  0.50h  ->   0.3€  #   0.283\n",
      "name  1.00h  ->   0.6€  #   0.567\n",
      "name  1.50h  ->   0.8€  #   0.851\n",
      "name  2.00h  ->   1.1€  #   1.135\n",
      "name  2.50h  ->   1.4€  #   1.419\n",
      "name  3.00h  ->   1.7€  #   1.702\n",
      "name  3.50h  ->   2.0€  #   1.986\n",
      "name  4.00h  ->   2.3€  #   2.270\n",
      "---------------------------------\n",
      "total hours = 18.0 h\n",
      "tip ratio = 0.5676 €/h\n"
     ]
    }
   ],
   "source": [
    "#!/usr/bin/env python\n",
    "\n",
    "import numpy as np\n",
    "import sys\n",
    "import os\n",
    "import textwrap\n",
    "\n",
    "tip = [1.2349,1.2559,1.2698,1.2798,1.2898,1.2999,1.29541,1.2921]    \n",
    "tipsum = sum(tip)\n",
    "hour = [0.5*(i+1) for i in range(len(tip))]\n",
    "\n",
    "name = ['name'] * len(l)\n",
    "\n",
    "ratio = tipsum / sum(hour)\n",
    "\n",
    "realtip = np.array([ratio * i for i in hour])                   \n",
    "real = np.array([ratio * i for i in hour])\n",
    "\n",
    "roundtip = np.around(realtip, decimals=1)\n",
    "\n",
    "if np.around(sum(roundtip), decimals=3) > tipsum:\n",
    "    print(\"tip adjusted correctly\")\n",
    "    \n",
    "    check = 5\n",
    "    \n",
    "    while np.around(sum(roundtip), decimals=3) > tipsum:\n",
    "        deci = [int(i * 100) % 10 for i in real]\n",
    "        hit = [i for i, j in enumerate(deci) if j == check]\n",
    "        [print(i,j) for i,j in enumerate(deci)]\n",
    "        \n",
    "        print(hit)\n",
    "        \n",
    "        for i in hit:\n",
    "            real[i] = int(real[i] * 10) / 10\n",
    "                \n",
    "        roundtip = np.around(real, decimals=1)\n",
    "        \n",
    "        check += 1\n",
    "\n",
    "realtip = [int(i * 1000) / 1000 for i in realtip]\n",
    "print(sum(realtip))        \n",
    "\n",
    "maxstr = len(max(name, key=len))\n",
    "\n",
    "\n",
    "print('-' * (maxstr + 29))\n",
    "\n",
    "for i in range(len(name)):\n",
    "    print('{num:{width}}'.format(num = name[i], width = maxstr), f' {hour[i]:4.2f}h', f' -> {roundtip[i]:5.1f}€', f' #  {realtip[i]:6.3f}')\n",
    "    \n",
    "print('-' * (maxstr + 29))\n",
    "\n",
    "print(f'total hours = {sum(hour):} h')   \n",
    "print(f'tip ratio = {ratio:.4} €/h')"
   ]
  },
  {
   "cell_type": "code",
   "execution_count": 54,
   "id": "3fad2c85-d5c3-49b9-8c8e-64d27d08eaf5",
   "metadata": {},
   "outputs": [
    {
     "name": "stdout",
     "output_type": "stream",
     "text": [
      "tip adjusted correctly\n",
      "0 3\n",
      "1 5\n",
      "2 6\n",
      "3 5\n",
      "4 8\n",
      "5 9\n",
      "6 9\n",
      "7 9\n",
      "[1, 3]\n",
      "[1.2349, 1.2559, 1.2698, 1.2598, 1.2898, 1.2999, 1.29541, 1.2921]\n",
      "10.191999999999998\n",
      "---------------------------------\n",
      "name  ->   1.2€  #   1.234\n",
      "name  ->   1.2€  #   1.255\n",
      "name  ->   1.3€  #   1.269\n",
      "name  ->   1.2€  #   1.259\n",
      "name  ->   1.3€  #   1.289\n",
      "name  ->   1.3€  #   1.299\n",
      "name  ->   1.3€  #   1.295\n",
      "name  ->   1.3€  #   1.292\n",
      "---------------------------------\n",
      "total hours = 18.0 h\n",
      "tip ratio = 0.5676 €/h\n"
     ]
    }
   ],
   "source": [
    "#!/usr/bin/env python\n",
    "\n",
    "import numpy as np\n",
    "import sys\n",
    "import os\n",
    "import textwrap\n",
    "\n",
    "tip = [1.2349,1.2559,1.2698,1.2598,1.2898,1.2999,1.29541,1.2921]    \n",
    "\n",
    "name = ['name'] * len(l)\n",
    "\n",
    "realtip =  [1.2349,1.2559,1.2698,1.2598,1.2898,1.2999,1.29541,1.2921]                    \n",
    "real = tip\n",
    "\n",
    "roundtip = np.around(tip, decimals=1)\n",
    "\n",
    "if np.around(sum(roundtip), decimals=3) > sum(tip):\n",
    "    print(\"tip adjusted correctly\")\n",
    "    \n",
    "    check = 5\n",
    "    \n",
    "    while np.around(sum(roundtip), decimals=3) > tipsum:\n",
    "        deci = [int(i * 100) % 10 for i in real]\n",
    "        hit = [i for i, j in enumerate(deci) if j == check]\n",
    "        [print(i,j) for i,j in enumerate(deci)]\n",
    "        \n",
    "        print(hit)\n",
    "        \n",
    "        for i in hit:\n",
    "            real[i] = int(real[i] * 10) / 10.\n",
    "                \n",
    "        roundtip = np.around(real, decimals=1)\n",
    "        \n",
    "        check += 1\n",
    "\n",
    "print(realtip)\n",
    "realtip = [int(i * 1000) / 1000. for i in realtip]\n",
    "print(sum(realtip))        \n",
    "\n",
    "maxstr = len(max(name, key=len))\n",
    "\n",
    "\n",
    "print('-' * (maxstr + 29))\n",
    "\n",
    "for i in range(len(name)):\n",
    "    print('{num:{width}}'.format(num = name[i], width = maxstr), f' -> {roundtip[i]:5.1f}€', f' #  {realtip[i]:6.3f}')\n",
    "    \n",
    "print('-' * (maxstr + 29))\n",
    "\n",
    "print(f'total hours = {sum(hour):} h')   \n",
    "print(f'tip ratio = {ratio:.4} €/h')"
   ]
  },
  {
   "cell_type": "code",
   "execution_count": 1,
   "id": "40ec67a3-22cd-4679-8d9d-6b4337251403",
   "metadata": {},
   "outputs": [
    {
     "data": {
      "text/plain": [
       "True"
      ]
     },
     "execution_count": 1,
     "metadata": {},
     "output_type": "execute_result"
    }
   ],
   "source": [
    "name = []\n",
    "name != 0"
   ]
  },
  {
   "cell_type": "code",
   "execution_count": 4,
   "id": "8e6abede-fa04-4b27-bbfb-77e49d5c3a21",
   "metadata": {},
   "outputs": [
    {
     "name": "stdout",
     "output_type": "stream",
     "text": [
      "False\n"
     ]
    }
   ],
   "source": [
    "string = 'grace'\n",
    "print((('bester barista' or 'beste barista') or 'besten barista') in string)"
   ]
  },
  {
   "cell_type": "code",
   "execution_count": 7,
   "id": "8e352533-b3d2-47e6-9602-62ff34d3766d",
   "metadata": {},
   "outputs": [
    {
     "name": "stdout",
     "output_type": "stream",
     "text": [
      "beste barista\n",
      "grace\n"
     ]
    }
   ],
   "source": [
    "string = 'grace'\n",
    "print('beste barista' or 'besten barista' in string)\n",
    "print(string)"
   ]
  },
  {
   "cell_type": "code",
   "execution_count": 10,
   "id": "60e064f3-51b1-40dd-8111-126940253a5e",
   "metadata": {},
   "outputs": [
    {
     "data": {
      "text/plain": [
       "True"
      ]
     },
     "execution_count": 10,
     "metadata": {},
     "output_type": "execute_result"
    }
   ],
   "source": [
    "string = 'sina ist beste barista'\n",
    "bestbarista = ['bester barista', 'besten barista', 'beste barista', 'best barista']\n",
    "any(s in string for s in bestbarista)"
   ]
  },
  {
   "cell_type": "code",
   "execution_count": 11,
   "id": "a93a0e83-41cd-495b-88cc-17e5e1ed9879",
   "metadata": {},
   "outputs": [
    {
     "name": "stdout",
     "output_type": "stream",
     "text": [
      "18.08.2022, Thursday, time: 17:43\n"
     ]
    }
   ],
   "source": [
    "from datetime import date, datetime\n",
    "\n",
    "today = date.today().strftime(\"%d.%m.%Y\") + ', ' + date.today().strftime(\"%A\") + ', time: ' + datetime.now().strftime(\"%H:%M\")\n",
    "print(today)"
   ]
  },
  {
   "cell_type": "code",
   "execution_count": 6,
   "id": "a115b5be-2094-457c-99bc-5cafc484cd65",
   "metadata": {},
   "outputs": [
    {
     "name": "stdout",
     "output_type": "stream",
     "text": [
      "hi\n"
     ]
    }
   ],
   "source": [
    "print('hi')"
   ]
  },
  {
   "cell_type": "code",
   "execution_count": 17,
   "id": "07ebc3ec-805f-4eff-801a-27692c2b80bf",
   "metadata": {},
   "outputs": [
    {
     "name": "stdout",
     "output_type": "stream",
     "text": [
      "1\n",
      "2\n",
      "3\n",
      "4\n",
      "5\n",
      "6\n",
      "7\n",
      "8\n",
      "9\n"
     ]
    }
   ],
   "source": [
    "for i in range(1, 10):\n",
    "    print(i)"
   ]
  },
  {
   "cell_type": "code",
   "execution_count": 21,
   "id": "1000cd2e-2eda-4778-85c6-720d6a5dff93",
   "metadata": {},
   "outputs": [
    {
     "ename": "AttributeError",
     "evalue": "'int' object has no attribute 'replace'",
     "output_type": "error",
     "traceback": [
      "\u001b[0;31m---------------------------------------------------------------------------\u001b[0m",
      "\u001b[0;31mAttributeError\u001b[0m                            Traceback (most recent call last)",
      "\u001b[0;32m<ipython-input-21-99c28f444a9d>\u001b[0m in \u001b[0;36m<module>\u001b[0;34m\u001b[0m\n\u001b[1;32m      1\u001b[0m \u001b[0ma\u001b[0m \u001b[0;34m=\u001b[0m \u001b[0;34m[\u001b[0m\u001b[0;36m123\u001b[0m\u001b[0;34m,\u001b[0m \u001b[0;36m123\u001b[0m\u001b[0;34m,\u001b[0m \u001b[0;36m123\u001b[0m\u001b[0;34m]\u001b[0m\u001b[0;34m\u001b[0m\u001b[0;34m\u001b[0m\u001b[0m\n\u001b[0;32m----> 2\u001b[0;31m \u001b[0ma\u001b[0m\u001b[0;34m.\u001b[0m\u001b[0mpop\u001b[0m\u001b[0;34m(\u001b[0m\u001b[0;34m)\u001b[0m\u001b[0;34m.\u001b[0m\u001b[0mreplace\u001b[0m\u001b[0;34m(\u001b[0m\u001b[0;34m','\u001b[0m\u001b[0;34m,\u001b[0m \u001b[0;34m'.'\u001b[0m\u001b[0;34m)\u001b[0m\u001b[0;34m\u001b[0m\u001b[0;34m\u001b[0m\u001b[0m\n\u001b[0m",
      "\u001b[0;31mAttributeError\u001b[0m: 'int' object has no attribute 'replace'"
     ]
    }
   ],
   "source": [
    "a = [123, 123, 123]\n",
    "a.pop().replace(',', '.')"
   ]
  },
  {
   "cell_type": "code",
   "execution_count": 26,
   "id": "0ce6f9aa-4036-4fdf-a973-04a63499e797",
   "metadata": {},
   "outputs": [
    {
     "data": {
      "text/plain": [
       "2"
      ]
     },
     "execution_count": 26,
     "metadata": {},
     "output_type": "execute_result"
    }
   ],
   "source": [
    "len(str(10))"
   ]
  },
  {
   "cell_type": "code",
   "execution_count": 2,
   "id": "9d58e1d3-000b-44a5-8a34-3047919f598d",
   "metadata": {},
   "outputs": [
    {
     "name": "stdout",
     "output_type": "stream",
     "text": [
      "0101\n",
      "101\n"
     ]
    }
   ],
   "source": [
    "from datetime import date, datetime\n",
    "print(date.today().strftime(\"%d%m\"))\n",
    "print(int(date.today().strftime(\"%m%d\")))"
   ]
  },
  {
   "cell_type": "code",
   "execution_count": 2,
   "id": "5360d124-df48-47ad-9985-82f5a8165043",
   "metadata": {},
   "outputs": [
    {
     "name": "stdout",
     "output_type": "stream",
     "text": [
      "2023-05-04\n"
     ]
    }
   ],
   "source": [
    "import datetime\n",
    "for i in range(400):\n",
    "    d = datetime.date.today() + datetime.timedelta(days=i)\n",
    "    if int(d.strftime(\"%m%d\")) == 504:\n",
    "        print(d)"
   ]
  },
  {
   "cell_type": "code",
   "execution_count": 3,
   "id": "cc98a712-f6d8-4b1c-ae13-a70080acbb29",
   "metadata": {},
   "outputs": [
    {
     "data": {
      "text/plain": [
       "214"
      ]
     },
     "execution_count": 3,
     "metadata": {},
     "output_type": "execute_result"
    }
   ],
   "source": [
    "int(date.today().strftime(\"%m%d\"))"
   ]
  },
  {
   "cell_type": "code",
   "execution_count": 1,
   "id": "529e39fb-7431-4b7f-8038-2f611e82a51d",
   "metadata": {},
   "outputs": [
    {
     "name": "stdout",
     "output_type": "stream",
     "text": [
      "15.07.2023, Saturday, time: 01:06\n"
     ]
    },
    {
     "name": "stdin",
     "output_type": "stream",
     "text": [
      "1. Name =  report\n",
      "month or date:  7\n"
     ]
    },
    {
     "name": "stdout",
     "output_type": "stream",
     "text": [
      "1. 15-Sat-00-42.txt\n",
      "2. 14-Fri-22-32.txt\n",
      "3. 14-Fri-21-59.txt\n",
      "i have a bad feeling about this\n"
     ]
    }
   ],
   "source": [
    " #!/usr/bin/env python\n",
    "# Wrtten by Taro Watanabe, would be nice if you take the code\n",
    "# with the eastereggs secret, addings are allowed ^^\n",
    "# all texts and eastereggs stored in texts.py\n",
    "\n",
    "import numpy as np\n",
    "import sys\n",
    "import os\n",
    "from datetime import datetime as dt\n",
    "import texts as tx\n",
    "import report as rp\n",
    "\n",
    "\n",
    "def abort(var):\n",
    "    var = str(var).lower()\n",
    "    \n",
    "    labort = ['exit', 'stop', 'stopp', 'abbruch', 'abbrechen']\n",
    "    lhelp = ['help', 'hilfe']\n",
    "    lcorr = ['korr', 'korrektur', 'korektur', 'korrigieren',\n",
    "            'korigieren', 'correction', 'corection', 'corr',\n",
    "            'korrection', 'korection', 'corrigieren', 'corigieren']\n",
    "    \n",
    "    if var in labort:\n",
    "        print('Exited session.')\n",
    "        sys.exit()\n",
    "        \n",
    "    elif var in lhelp:\n",
    "        tx.helpman()\n",
    "        sys.exit()\n",
    "        \n",
    "    elif var in lcorr:\n",
    "        print(name)\n",
    "        \n",
    "    else:\n",
    "        return var\n",
    "    \n",
    "def adjust_tip(roundtip, tipsum, real):\n",
    "    if np.around(sum(roundtip), decimals=3) > tipsum:\n",
    "        print(\"tip adjusted correctly\")\n",
    "\n",
    "        check = 5\n",
    "\n",
    "        while np.around(sum(roundtip), decimals=3) > tipsum:\n",
    "            deci = [int(i * 100) % 10 for i in real]\n",
    "            hit = [i for i, j in enumerate(deci) if j == check]\n",
    "\n",
    "            for i in hit:\n",
    "                real[i] = int(real[i] * 10) / 10\n",
    "\n",
    "            roundtip = np.around(real, decimals=1)\n",
    "\n",
    "            check += 1\n",
    "            \n",
    "    return roundtip, tipsum, real        \n",
    "    \n",
    "    \n",
    "def tmode():\n",
    "    count = 0\n",
    "    for i in range(1, 100):\n",
    "        while True:\n",
    "            try:\n",
    "                value = abort(input('{}{}{}{} = '.format(i + count, '.', ' ' * (2 - len(str(i))), \"Hour\"))).replace(',', '.')\n",
    "                \n",
    "                if ' ' in value:\n",
    "                    thour, times = value.split(' ', 1)\n",
    "                    count += int(times) - 1\n",
    "                    for j in range(int(times)):\n",
    "                        hour.append(float(str(thour)))\n",
    "                else:\n",
    "                    hour.append(float(str(value)))\n",
    "                    \n",
    "            except ValueError:\n",
    "                print('input error')\n",
    "                continue\n",
    "            else:\n",
    "                break\n",
    "        \n",
    "        if hour[-1] > 11:\n",
    "            tipsum = float(hour.pop())\n",
    "            break\n",
    "    \n",
    "    ratio = tipsum / sum(hour)\n",
    "\n",
    "    realtip = np.array([ratio * i for i in hour])                   \n",
    "    real = np.array([ratio * i for i in hour])\n",
    "\n",
    "    roundtip = np.around(realtip, decimals=1)\n",
    "\n",
    "    roundtip, tipsum, real = adjust_tip(roundtip, tipsum, real)\n",
    "\n",
    "    realtip = [int(i * 1000) / 1000. for i in realtip]\n",
    "    \n",
    "    \n",
    "    text = list()\n",
    "    \n",
    "    today = dt.today().strftime(\"%d.%m.%Y\") + ', ' + dt.today().strftime(\"%A\") + ', time: ' + dt.now().strftime(\"%H:%M\")\n",
    "    text.append(today + '\\n')\n",
    "            \n",
    "    print('-' *  32)\n",
    "    text.append('-' *  32 + '\\n')\n",
    "\n",
    "    for i in range(len(hour)):\n",
    "        t = f'{i+1}\"{\" \" * (4 - len(str(i+1)))}{hour[i]:4.2f}h  -> {roundtip[i]:5.1f}€  #  {realtip[i]:6.3f}'\n",
    "        print(t)\n",
    "        text.append(t + '\\n')\n",
    "\n",
    "    print('-' *  32)\n",
    "    text.append('-' *  32 + '\\n')\n",
    "\n",
    "    t = f'total hours = {sum(hour):} h'\n",
    "    print(t)\n",
    "    text.append(t + '\\n')\n",
    "    \n",
    "    \n",
    "    t = f'tip ratio = {ratio:.4} €/h'\n",
    "    print(t)\n",
    "    text.append(t + '\\n')\n",
    "    \n",
    "    timestamp = dt.today().strftime(\"%d\") + '-' + dt.today().strftime(\"%a\") + '-' + dt.now().strftime(\"%H-%M\")\n",
    "    dirname = './txt/'+ dt.today().strftime(\"%Y\") + '/' + dt.today().strftime(\"%m\") + '/'\n",
    "    path = dirname + '/' + timestamp +'.txt'\n",
    "\n",
    "    os.makedirs(os.path.dirname(dirname), exist_ok=True)\n",
    "    with open(path, 'w+') as f:\n",
    "        f.writelines(text)\n",
    "            \n",
    "            \n",
    "def normal(value, name, hour):\n",
    "    i = 1\n",
    "    \n",
    "    while True:\n",
    "        if value == '0':\n",
    "            print('Gib mindestens einen Namen ein!\\nBei Eingabe von 0 wird die Nameneingabe abgebrochen!')\n",
    "            value = abort(input('{}{} = '.format(i, \".  Name\")))\n",
    "\n",
    "        elif tx.easteregg(value) != False:\n",
    "            value = abort(input('{}{} = '.format(i, \".  Name\")))\n",
    "\n",
    "        else:\n",
    "            break\n",
    "\n",
    "    name.append(value)\n",
    "    \n",
    "    while '0' not in name:    \n",
    "        while True:\n",
    "            try:\n",
    "                value = abort(input('{} = '.format(\"   Hour\")))\n",
    "\n",
    "                if tx.easteregg(value) != False:\n",
    "                    continue\n",
    "\n",
    "                hour.append(float(value.replace(',', '.')))\n",
    "\n",
    "            except ValueError:\n",
    "                print('Gib nur eine Zahl ein für die Stunden!')\n",
    "                continue\n",
    "\n",
    "            else:\n",
    "                break\n",
    "\n",
    "        i += 1\n",
    "        value = abort(input('{}{}{}{} = '.format(i, '.', ' ' * (2 - len(str(i))), \"Name\")))\n",
    "\n",
    "        while tx.easteregg(value) != False:\n",
    "            value = abort(input('{}{}{}{} = '.format(i, '.', ' ' * (2 - len(str(i))), \"Name\")))\n",
    "\n",
    "        name.append(value)\n",
    "\n",
    "    name = name[:-1]\n",
    "\n",
    "    while True:\n",
    "        try:\n",
    "            tipsum = abort(input(\"total tip = \"))\n",
    "\n",
    "            if tx.easteregg(tipsum) != False:\n",
    "                continue\n",
    "\n",
    "            tipsum = float(tipsum.replace(',', '.'))\n",
    "\n",
    "        except ValueError:\n",
    "            print('Gib nur eine Zahl ein für das gesamte Trinkgeld!')\n",
    "            continue\n",
    "\n",
    "        else:\n",
    "            break\n",
    "\n",
    "    ratio = tipsum / sum(hour)\n",
    "\n",
    "    realtip = np.array([ratio * i for i in hour])                   \n",
    "    real = np.array([ratio * i for i in hour])\n",
    "\n",
    "    roundtip = np.around(realtip, decimals=1)\n",
    "\n",
    "    roundtip, tipsum, real = adjust_tip(roundtip, tipsum, real)\n",
    "\n",
    "    realtip = [int(i * 1000) / 1000. for i in realtip]        \n",
    "\n",
    "    maxstr = len(max(name, key=len))\n",
    "\n",
    "    print('-' * (maxstr + 29))\n",
    "\n",
    "    for i in range(len(name)):\n",
    "        print('{num:{width}}'.format(num = name[i], width = maxstr), f' {hour[i]:4.2f}h', f' -> {roundtip[i]:5.1f}€', f' #  {realtip[i]:6.3f}')\n",
    "\n",
    "    print('-' * (maxstr + 29))\n",
    "\n",
    "    print(f'total hours = {sum(hour):} h')   \n",
    "    print(f'tip ratio = {ratio:.4} €/h')\n",
    "    \n",
    "\n",
    "tx.datereasteregg()\n",
    "    \n",
    "name = []\n",
    "hour = []\n",
    "i = 1\n",
    "\n",
    "today = dt.today().strftime(\"%d.%m.%Y\") + ', ' + dt.today().strftime(\"%A\") + ', time: ' + dt.now().strftime(\"%H:%M\")\n",
    "print(today)\n",
    "\n",
    "value = abort(input('{}{} = '.format(i, \". Name\")))\n",
    "\n",
    "if value == 'tmode':\n",
    "    tmode()\n",
    "    \n",
    "elif value == 'report':\n",
    "    rp.report()\n",
    "    \n",
    "else:\n",
    "    normal(value, name, hour)"
   ]
  },
  {
   "cell_type": "code",
   "execution_count": 12,
   "id": "0161b9db-3647-45fd-a6ea-bd679da248d0",
   "metadata": {},
   "outputs": [],
   "source": [
    "text = list()\n",
    "text.append('this' + '\\n')\n",
    "that = 'that'\n",
    "text.append(that + 'there')\n",
    "\n",
    "timestamp = dt.today().strftime(\"%d\") + '-' + dt.today().strftime(\"%a\") + '-' + dt.now().strftime(\"%H-%M\")\n",
    "path = './txt/'+ dt.today().strftime(\"%Y\") + '/' + timestamp +'.txt'\n",
    "\n",
    "os.makedirs(os.path.dirname('./txt/'+ dt.today().strftime(\"%Y\") + '/'), exist_ok=True)\n",
    "with open(path, 'w+') as f:\n",
    "    f.writelines(text)"
   ]
  },
  {
   "cell_type": "code",
   "execution_count": 13,
   "id": "73f81d70-f043-40ba-b39a-0a5bed30443e",
   "metadata": {},
   "outputs": [
    {
     "name": "stdout",
     "output_type": "stream",
     "text": [
      "this\n"
     ]
    }
   ],
   "source": [
    "t = f'this'\n",
    "print(t)"
   ]
  },
  {
   "cell_type": "code",
   "execution_count": 29,
   "id": "9432c26b-610a-4fa4-8e08-a2b682b04b17",
   "metadata": {},
   "outputs": [
    {
     "ename": "NameError",
     "evalue": "name 'roundtip' is not defined",
     "output_type": "error",
     "traceback": [
      "\u001b[0;31m---------------------------------------------------------------------------\u001b[0m",
      "\u001b[0;31mNameError\u001b[0m                                 Traceback (most recent call last)",
      "\u001b[0;32m<ipython-input-29-7af7eea31a84>\u001b[0m in \u001b[0;36m<module>\u001b[0;34m\u001b[0m\n\u001b[1;32m      2\u001b[0m \u001b[0;34m\u001b[0m\u001b[0m\n\u001b[1;32m      3\u001b[0m \u001b[0;32mfor\u001b[0m \u001b[0mi\u001b[0m \u001b[0;32min\u001b[0m \u001b[0mrange\u001b[0m\u001b[0;34m(\u001b[0m\u001b[0mlen\u001b[0m\u001b[0;34m(\u001b[0m\u001b[0mhour\u001b[0m\u001b[0;34m)\u001b[0m\u001b[0;34m)\u001b[0m\u001b[0;34m:\u001b[0m\u001b[0;34m\u001b[0m\u001b[0;34m\u001b[0m\u001b[0m\n\u001b[0;32m----> 4\u001b[0;31m     \u001b[0mt\u001b[0m \u001b[0;34m=\u001b[0m \u001b[0;34mf'{i+1}\"{\" \" * (4 - len(str(i+1)))}{hour[i]:4.2f}h  -> {roundtip[i]:5.1f}€  #  {realtip[i]:6.3f}'\u001b[0m\u001b[0;34m\u001b[0m\u001b[0;34m\u001b[0m\u001b[0m\n\u001b[0m\u001b[1;32m      5\u001b[0m     \u001b[0mprint\u001b[0m\u001b[0;34m(\u001b[0m\u001b[0mt\u001b[0m\u001b[0;34m)\u001b[0m\u001b[0;34m\u001b[0m\u001b[0;34m\u001b[0m\u001b[0m\n",
      "\u001b[0;31mNameError\u001b[0m: name 'roundtip' is not defined"
     ]
    }
   ],
   "source": [
    "hour = [1, 2, 3, 4, 5]\n",
    "\n",
    "for i in range(len(hour)):\n",
    "    t = f'{i+1}\"{\" \" * (4 - len(str(i+1)))}{hour[i]:4.2f}h  -> {roundtip[i]:5.1f}€  #  {realtip[i]:6.3f}'\n",
    "    print(t)"
   ]
  },
  {
   "cell_type": "code",
   "execution_count": 28,
   "id": "485334c8-547e-40c4-a8ef-e67af05b1e03",
   "metadata": {},
   "outputs": [
    {
     "name": "stdout",
     "output_type": "stream",
     "text": [
      "1\"   1.00\n",
      "2\"   2.00\n",
      "3\"   3.00\n",
      "4\"   4.00\n",
      "5\"   5.00\n"
     ]
    }
   ],
   "source": [
    "hour = [1, 2, 3, 4, 5]\n",
    "\n",
    "for i in range(len(hour)):\n",
    "    t = f'{i+1}\"{\" \" * (4 - len(str(i+1)))}{hour[i]:4.2f}'\n",
    "    print(t)"
   ]
  },
  {
   "cell_type": "code",
   "execution_count": 2,
   "id": "89c7f889-8b6c-4fb0-9ad5-35f48476fdcd",
   "metadata": {},
   "outputs": [
    {
     "name": "stdin",
     "output_type": "stream",
     "text": [
      " 14.7.23\n"
     ]
    },
    {
     "name": "stdout",
     "output_type": "stream",
     "text": [
      "1. 14-Fri-22-32.txt\n",
      "2. 14-Fri-21-59.txt\n"
     ]
    },
    {
     "name": "stdin",
     "output_type": "stream",
     "text": [
      "-> select wich file:  1\n"
     ]
    },
    {
     "name": "stdout",
     "output_type": "stream",
     "text": [
      "open file ./txt/2023/07/14-Fri-22-32.txt \n",
      "\n",
      "14.07.2023, Friday, time: 22:32\n",
      "--------------------------------\n",
      "1\"   2.00h  ->  27.7€\n",
      "2\"   2.00h  ->  27.7€\n",
      "--------------------------------\n",
      "total hours = 4.0 h\n",
      "tip ratio = 13.88 €/h\n"
     ]
    }
   ],
   "source": [
    "def listdays(month, year):\n",
    "    try:\n",
    "        path = './txt/'+ year + '/' + month + '/'\n",
    "\n",
    "        flag = True\n",
    "        files = []\n",
    "        i = 0\n",
    "        for dirpath, dirnames, filenames in os.walk(path):\n",
    "            print('this',dirpath, dirnames, filenames)\n",
    "            for f in filenames:\n",
    "                if 'checkpoint' not in f:\n",
    "                    i += 1\n",
    "                    print(str(i) + '.', f)\n",
    "\n",
    "                    files.append(os.path.join(dirpath, f))\n",
    "                    flag = False\n",
    "        if flag:\n",
    "            print(\"directory does not exist\")\n",
    "\n",
    "        data = np.genfromtxt(path, dtype='str', delimiter='\\t')\n",
    "        print(data)\n",
    "\n",
    "    except:\n",
    "        print('i have a bad feeling about this')\n",
    "\n",
    "def listfiles(day, month, year):\n",
    "    try:\n",
    "        path = './txt/'+ year + '/' + month + '/'\n",
    "\n",
    "        flag = True\n",
    "        files = []\n",
    "        i = 0\n",
    "        for dirpath, dirnames, filenames in os.walk(path):\n",
    "            for f in [f for f in filenames if day in f[:2]]:\n",
    "                if 'ipynb_checkpoints' not in dirpath:\n",
    "                    i += 1\n",
    "                    print(str(i) + '.', f)\n",
    "\n",
    "                    files.append(os.path.join(dirpath, f))\n",
    "                    flag = False\n",
    "        if flag:\n",
    "            print(\"file does not exist\")\n",
    "\n",
    "        if i > 1:\n",
    "            number = input('-> select wich file: ')\n",
    "            hit = files[int(number) - 1]\n",
    "            print('open file', hit, '\\n')\n",
    "            \n",
    "        else:\n",
    "            hit = files[0]\n",
    "            print('open file', hit, '\\n')\n",
    "        \n",
    "        data = np.genfromtxt(hit, dtype='str', delimiter='\\n')\n",
    "        for t in data:\n",
    "            print(t)\n",
    "\n",
    "    except:\n",
    "        print('i have a bad feeling about this')\n",
    "\n",
    "date = input()\n",
    "if date.count('.') == 2:\n",
    "    day, month, year = date.split('.', 2)\n",
    "    \n",
    "    if len(year) == 2:\n",
    "        year = '20' + year        \n",
    "    if len(month) == 1:\n",
    "        month = '0' + month\n",
    "    \n",
    "    listfiles(day, month, year)\n",
    "    \n",
    "elif date.count('.') == 1:\n",
    "    month, year = date.split('.', 1)\n",
    "    \n",
    "    if len(year) == 2:\n",
    "        year = '20' + year\n",
    "    if len(month) == 1:\n",
    "        month = '0' + month\n",
    "        \n",
    "    listdays(month, year)\n",
    "    \n",
    "else:\n",
    "    month = date\n",
    "    if len(month) == 1:\n",
    "        month = '0' + month\n",
    "    year = dt.today().strftime(\"%Y\")\n",
    "    \n",
    "    listdays(month, year)"
   ]
  },
  {
   "cell_type": "code",
   "execution_count": 99,
   "id": "34dbe3a4-3176-4c21-87df-9f4e7cf43e69",
   "metadata": {},
   "outputs": [
    {
     "name": "stdout",
     "output_type": "stream",
     "text": [
      "12\n",
      "1234 this 123\n"
     ]
    }
   ],
   "source": [
    "l = '123'\n",
    "print(l[:2])\n",
    "print(l + '4', 'this', l)"
   ]
  },
  {
   "cell_type": "code",
   "execution_count": 3,
   "id": "0ca00a35-713a-457a-a4a3-1e864b11e88b",
   "metadata": {},
   "outputs": [
    {
     "data": {
      "text/plain": [
       "0"
      ]
     },
     "execution_count": 3,
     "metadata": {},
     "output_type": "execute_result"
    }
   ],
   "source": [
    "import subprocess\n",
    "subprocess.call(['sh', './update_tip.sh'])"
   ]
  },
  {
   "cell_type": "code",
   "execution_count": 41,
   "id": "a46fca68-a1ec-4752-b2e9-d6fd22ce2bc4",
   "metadata": {},
   "outputs": [
    {
     "name": "stdin",
     "output_type": "stream",
     "text": [
      "1. Hour =  12+12\n"
     ]
    },
    {
     "ename": "TypeError",
     "evalue": "float() argument must be a string or a number, not 'list'",
     "output_type": "error",
     "traceback": [
      "\u001b[0;31m---------------------------------------------------------------------------\u001b[0m",
      "\u001b[0;31mTypeError\u001b[0m                                 Traceback (most recent call last)",
      "\u001b[0;32m<ipython-input-41-1918098fafea>\u001b[0m in \u001b[0;36m<module>\u001b[0;34m\u001b[0m\n\u001b[1;32m     33\u001b[0m            \u001b[0;32mif\u001b[0m \u001b[0meval\u001b[0m\u001b[0;34m(\u001b[0m\u001b[0mvalue\u001b[0m\u001b[0;34m)\u001b[0m \u001b[0;34m>\u001b[0m \u001b[0;36m11\u001b[0m\u001b[0;34m:\u001b[0m\u001b[0;34m\u001b[0m\u001b[0;34m\u001b[0m\u001b[0m\n\u001b[1;32m     34\u001b[0m                \u001b[0;32mif\u001b[0m \u001b[0;34m'+'\u001b[0m \u001b[0;32min\u001b[0m \u001b[0mvalue\u001b[0m\u001b[0;34m:\u001b[0m\u001b[0;34m\u001b[0m\u001b[0;34m\u001b[0m\u001b[0m\n\u001b[0;32m---> 35\u001b[0;31m                    \u001b[0mbar\u001b[0m\u001b[0;34m,\u001b[0m \u001b[0mcard\u001b[0m \u001b[0;34m=\u001b[0m \u001b[0mfloat\u001b[0m\u001b[0;34m(\u001b[0m\u001b[0mvalue\u001b[0m\u001b[0;34m.\u001b[0m\u001b[0mreplace\u001b[0m\u001b[0;34m(\u001b[0m\u001b[0;34m' '\u001b[0m\u001b[0;34m,\u001b[0m \u001b[0;34m''\u001b[0m\u001b[0;34m)\u001b[0m\u001b[0;34m.\u001b[0m\u001b[0msplit\u001b[0m\u001b[0;34m(\u001b[0m\u001b[0;34m'+'\u001b[0m\u001b[0;34m,\u001b[0m \u001b[0;36m1\u001b[0m\u001b[0;34m)\u001b[0m\u001b[0;34m)\u001b[0m\u001b[0;34m\u001b[0m\u001b[0;34m\u001b[0m\u001b[0m\n\u001b[0m\u001b[1;32m     36\u001b[0m \u001b[0;34m\u001b[0m\u001b[0m\n\u001b[1;32m     37\u001b[0m                \u001b[0mhour\u001b[0m\u001b[0;34m.\u001b[0m\u001b[0mappend\u001b[0m\u001b[0;34m(\u001b[0m\u001b[0meval\u001b[0m\u001b[0;34m(\u001b[0m\u001b[0mvalue\u001b[0m\u001b[0;34m)\u001b[0m\u001b[0;34m)\u001b[0m\u001b[0;34m\u001b[0m\u001b[0;34m\u001b[0m\u001b[0m\n",
      "\u001b[0;31mTypeError\u001b[0m: float() argument must be a string or a number, not 'list'"
     ]
    }
   ],
   "source": [
    " def abort(var):\n",
    "    var = str(var).lower()\n",
    "    \n",
    "    labort = ['exit', 'stop', 'stopp', 'abbruch', 'abbrechen']\n",
    "    lhelp = ['help', 'hilfe']\n",
    "    lcorr = ['korr', 'korrektur', 'korektur', 'korrigieren',\n",
    "            'korigieren', 'correction', 'corection', 'corr',\n",
    "            'korrection', 'korection', 'corrigieren', 'corigieren']\n",
    "    \n",
    "    if var in labort:\n",
    "        print('Exited session.')\n",
    "        sys.exit()\n",
    "        \n",
    "    elif var in lhelp:\n",
    "        tx.helpman()\n",
    "        sys.exit()\n",
    "        \n",
    "    elif var in lcorr:\n",
    "        print(name)\n",
    "        \n",
    "    else:\n",
    "        return var\n",
    "\n",
    "count = 0\n",
    "hour = []\n",
    "for i in range(1, 100):\n",
    "    while True:\n",
    "        try:\n",
    "            value = input('{}{}{}{} = '.format(i + count, '.', ' ' * (2 - len(str(i))), \"Hour\")).replace(',', '.')\n",
    "            if '+' not in value:\n",
    "                value = abort(value)\n",
    "\n",
    "            if eval(value) > 11:\n",
    "                if '+' in value:\n",
    "                    bar, card = value.replace(' ', '').split('+', 1)\n",
    "                \n",
    "                hour.append(eval(value))\n",
    "            \n",
    "            elif ' ' in value:\n",
    "                thour, times = value.split(' ', 1)\n",
    "                count += int(times) - 1\n",
    "                for j in range(int(times)):\n",
    "                    hour.append(float(str(thour)))\n",
    "            \n",
    "            else:\n",
    "                hour.append(float(str(value)))\n",
    "\n",
    "        except (ValueError, NameError) as error:\n",
    "            print('input error')\n",
    "            continue\n",
    "        else:\n",
    "            break\n",
    "\n",
    "    if hour[-1] > 11:\n",
    "        tipsum = float(hour.pop())\n",
    "        break\n",
    "        \n",
    "print(tipsum, bar, card)"
   ]
  },
  {
   "cell_type": "code",
   "execution_count": 42,
   "id": "f5b6c020-dc81-4aa3-8e90-6b4d97efad9c",
   "metadata": {},
   "outputs": [
    {
     "data": {
      "text/plain": [
       "int"
      ]
     },
     "execution_count": 42,
     "metadata": {},
     "output_type": "execute_result"
    }
   ],
   "source": [
    "type(eval(str(12+22)))"
   ]
  },
  {
   "cell_type": "code",
   "execution_count": 25,
   "id": "c58ea5ca-6177-48cf-8fcb-b42018790c22",
   "metadata": {},
   "outputs": [
    {
     "name": "stdin",
     "output_type": "stream",
     "text": [
      "1. Hour =  12+12\n"
     ]
    },
    {
     "ename": "ValueError",
     "evalue": "could not convert string to float: '12+12'",
     "output_type": "error",
     "traceback": [
      "\u001b[0;31m---------------------------------------------------------------------------\u001b[0m",
      "\u001b[0;31mValueError\u001b[0m                                Traceback (most recent call last)",
      "\u001b[0;32m<ipython-input-25-016044eec85b>\u001b[0m in \u001b[0;36m<module>\u001b[0;34m\u001b[0m\n\u001b[1;32m     37\u001b[0m \u001b[0;34m\u001b[0m\u001b[0m\n\u001b[1;32m     38\u001b[0m        \u001b[0;32melif\u001b[0m \u001b[0meval\u001b[0m\u001b[0;34m(\u001b[0m\u001b[0mvalue\u001b[0m\u001b[0;34m)\u001b[0m \u001b[0;34m>\u001b[0m \u001b[0;36m11\u001b[0m\u001b[0;34m:\u001b[0m\u001b[0;34m\u001b[0m\u001b[0;34m\u001b[0m\u001b[0m\n\u001b[0;32m---> 39\u001b[0;31m            \u001b[0mhour\u001b[0m\u001b[0;34m.\u001b[0m\u001b[0mappend\u001b[0m\u001b[0;34m(\u001b[0m\u001b[0mfloat\u001b[0m\u001b[0;34m(\u001b[0m\u001b[0mvalue\u001b[0m\u001b[0;34m)\u001b[0m\u001b[0;34m)\u001b[0m\u001b[0;34m\u001b[0m\u001b[0;34m\u001b[0m\u001b[0m\n\u001b[0m\u001b[1;32m     40\u001b[0m \u001b[0;34m\u001b[0m\u001b[0m\n\u001b[1;32m     41\u001b[0m        \u001b[0;32melse\u001b[0m\u001b[0;34m:\u001b[0m\u001b[0;34m\u001b[0m\u001b[0;34m\u001b[0m\u001b[0m\n",
      "\u001b[0;31mValueError\u001b[0m: could not convert string to float: '12+12'"
     ]
    }
   ],
   "source": [
    " def abort(var):\n",
    "    var = str(var).lower()\n",
    "    \n",
    "    labort = ['exit', 'stop', 'stopp', 'abbruch', 'abbrechen']\n",
    "    lhelp = ['help', 'hilfe']\n",
    "    lcorr = ['korr', 'korrektur', 'korektur', 'korrigieren',\n",
    "            'korigieren', 'correction', 'corection', 'corr',\n",
    "            'korrection', 'korection', 'corrigieren', 'corigieren']\n",
    "    \n",
    "    if var in labort:\n",
    "        print('Exited session.')\n",
    "        sys.exit()\n",
    "        \n",
    "    elif var in lhelp:\n",
    "        tx.helpman()\n",
    "        sys.exit()\n",
    "        \n",
    "    elif var in lcorr:\n",
    "        print(name)\n",
    "        \n",
    "    else:\n",
    "        return var\n",
    "\n",
    "count = 0\n",
    "hour = []\n",
    "for i in range(1, 100):\n",
    "    while True:\n",
    "        value = input('{}{}{}{} = '.format(i + count, '.', ' ' * (2 - len(str(i))), \"Hour\")).replace(',', '.')\n",
    "        if '+' not in value:\n",
    "            value = abort(value)\n",
    "\n",
    "        if ' ' in value:\n",
    "            thour, times = value.split(' ', 1)\n",
    "            count += int(times) - 1\n",
    "            for j in range(int(times)):\n",
    "                hour.append(float(str(thour)))\n",
    "\n",
    "        elif eval(value) > 11:\n",
    "            hour.append(float(value))\n",
    "\n",
    "        else:\n",
    "            hour.append(float(str(value)))\n",
    "\n",
    "    if hour[-1] > 11:\n",
    "        tipsum = float(hour.pop())\n",
    "        break\n",
    "        \n",
    "print(tipsum)"
   ]
  },
  {
   "cell_type": "code",
   "execution_count": 43,
   "id": "9d6742ec-d9ee-4f8d-8574-18e3a65d9dda",
   "metadata": {},
   "outputs": [
    {
     "ename": "ModuleNotFoundError",
     "evalue": "No module named 'statistic'",
     "output_type": "error",
     "traceback": [
      "\u001b[0;31m---------------------------------------------------------------------------\u001b[0m",
      "\u001b[0;31mModuleNotFoundError\u001b[0m                       Traceback (most recent call last)",
      "\u001b[0;32m<ipython-input-43-97e06f07e81d>\u001b[0m in \u001b[0;36m<module>\u001b[0;34m\u001b[0m\n\u001b[0;32m----> 1\u001b[0;31m \u001b[0;32mimport\u001b[0m \u001b[0mstatistic\u001b[0m\u001b[0;34m\u001b[0m\u001b[0;34m\u001b[0m\u001b[0m\n\u001b[0m",
      "\u001b[0;31mModuleNotFoundError\u001b[0m: No module named 'statistic'"
     ]
    }
   ],
   "source": [
    "import statistic"
   ]
  },
  {
   "cell_type": "code",
   "execution_count": 61,
   "id": "64803b61-87cf-4140-9f3b-c3c6e4526387",
   "metadata": {},
   "outputs": [
    {
     "name": "stdout",
     "output_type": "stream",
     "text": [
      "zsh: parse error near `()'\n"
     ]
    }
   ],
   "source": [
    "from urllib import request\n",
    "\n",
    "def internet_on():\n",
    "    try:\n",
    "        request.urlopen('https://github.com/hacase/calctip', timeout=1)\n",
    "        return True\n",
    "    except request.URLError as err: \n",
    "        return False\n",
    "    \n",
    "! internet_on()"
   ]
  },
  {
   "cell_type": "code",
   "execution_count": 47,
   "id": "f3b901e6-bc9c-4b39-9ed4-d539e40e15a6",
   "metadata": {},
   "outputs": [],
   "source": [
    "text = \"\"\"\n",
    "git add .\\n\n",
    "git commit -m 'delayed update tip data'\\n\n",
    "git push\\n\"\"\"\n",
    "\n",
    "with open('./delayed_update_tip.sh', 'w+') as f:\n",
    "        f.writelines(text)"
   ]
  },
  {
   "cell_type": "code",
   "execution_count": 51,
   "id": "5de12491-a5d7-406d-b5f1-4513f409a82b",
   "metadata": {},
   "outputs": [
    {
     "data": {
      "text/plain": [
       "True"
      ]
     },
     "execution_count": 51,
     "metadata": {},
     "output_type": "execute_result"
    }
   ],
   "source": [
    "os.path.isfile('./delayed_update_tip.sh')"
   ]
  },
  {
   "cell_type": "code",
   "execution_count": 55,
   "id": "321b4109-143f-4494-9529-54adddeaedc1",
   "metadata": {},
   "outputs": [
    {
     "name": "stdout",
     "output_type": "stream",
     "text": [
      "hi\n",
      "hi\n"
     ]
    }
   ],
   "source": [
    "def abc():\n",
    "    if True:\n",
    "        return 0\n",
    "    else:\n",
    "        print('else')\n",
    "    print('abcdef')\n",
    "print('hi')\n",
    "abc()\n",
    "print('hi')"
   ]
  },
  {
   "cell_type": "code",
   "execution_count": 58,
   "id": "fc6d891b-4687-40d1-a85b-f9c9ae5666e1",
   "metadata": {},
   "outputs": [
    {
     "data": {
      "text/plain": [
       "0"
      ]
     },
     "execution_count": 58,
     "metadata": {},
     "output_type": "execute_result"
    }
   ],
   "source": [
    "subprocess.call('rm ./delayed_update_tip.sh', shell=True)"
   ]
  },
  {
   "cell_type": "code",
   "execution_count": 120,
   "id": "a1f5e0db-fbbb-46c4-9d96-87a8b975b487",
   "metadata": {},
   "outputs": [
    {
     "name": "stdin",
     "output_type": "stream",
     "text": [
      "month or date:  7\n"
     ]
    },
    {
     "name": "stdout",
     "output_type": "stream",
     "text": [
      " 1.  14-Fri-18-19.txt\n",
      " 2.  14-Fri-22-32.txt\n",
      " 3.  15-Sat-00-42.txt\n",
      " 4.  16-Sun-22-51.txt\n",
      " 5.  16-Sun-23-36.txt\n",
      " 6.  16-Sun-23-39.txt\n",
      " 7.  16-Sun-23-40.txt\n",
      " 8.  26-Wed-18-28.txt\n",
      " 9.  26-Wed-19-06.txt\n",
      "10.  26-Wed-19-08.txt\n",
      "11.  26-Wed-19-13.txt\n",
      "12.  26-Wed-19-14.txt\n"
     ]
    },
    {
     "name": "stdin",
     "output_type": "stream",
     "text": [
      "-> select wich file:  5\n"
     ]
    },
    {
     "name": "stdout",
     "output_type": "stream",
     "text": [
      "open file ./txt/2023/07/16-Sun-23-36.txt \n",
      "\n",
      "16.07.2023, Sunday, time: 23:36\n",
      "--------------------------------\n",
      "1\"   4.00h  ->  18.2€  ;  18.179\n",
      "2\"   5.00h  ->  22.7€  ;  22.724\n",
      "3\"   6.00h  ->  27.3€  ;  27.269\n",
      "4\"   7.00h  ->  31.8€  ;  31.814\n",
      "5\"   8.00h  ->  36.3€  ;  36.358\n",
      "6\"   9.00h  ->  40.9€  ;  40.903\n",
      "--------------------------------\n",
      "total hours = 39.0 h\n",
      "tip ratio = 4.545 €/h\n",
      "sum = 177.25\n",
      "bar = 123\n",
      "card = 54.25\n"
     ]
    }
   ],
   "source": [
    " #!/usr/bin/env python\n",
    "\n",
    "import numpy as np\n",
    "import os\n",
    "from datetime import datetime as dt\n",
    "\n",
    "def abort(var):\n",
    "    var = str(var).lower()\n",
    "    \n",
    "    labort = ['exit', 'stop']\n",
    "    \n",
    "    if var in labort:\n",
    "        print('Exited session.')\n",
    "        sys.exit()\n",
    "        \n",
    "    else:\n",
    "        return var\n",
    "    \n",
    "def print_hit(files, i):\n",
    "    if i > 1:\n",
    "        number = input('-> select wich file: ')\n",
    "        hit = files[int(number) - 1]\n",
    "        print('open file', hit, '\\n')\n",
    "\n",
    "    else:\n",
    "        hit = files[0]\n",
    "        print('open file', hit, '\\n')\n",
    "\n",
    "    data = np.genfromtxt(hit, dtype='str', delimiter='\\n')\n",
    "    for t in data:\n",
    "        print(t)\n",
    "    \n",
    "def listdays(month, year):\n",
    "    path = './txt/'+ year + '/' + month + '/'\n",
    "\n",
    "    flag = True\n",
    "    files = []\n",
    "    i = 0\n",
    "    for dirpath, dirnames, filenames in os.walk(path):\n",
    "        for f in filenames:\n",
    "            if 'checkpoint' not in f:\n",
    "                files.append(os.path.join(dirpath, f))\n",
    "                flag = False\n",
    "    \n",
    "    files = sorted(files, key=sorterkey)\n",
    "    \n",
    "    i = 0\n",
    "    for f in files:\n",
    "        i += 1\n",
    "        print(f'{str(i):>2}.  {f[14:]}')\n",
    "        \n",
    "    if flag:\n",
    "        print(\"directory does not exist\")\n",
    "\n",
    "    print_hit(files, i)\n",
    "\n",
    "def listfiles(day, month, year):\n",
    "    path = './txt/'+ year + '/' + month + '/'\n",
    "\n",
    "    flag = True\n",
    "    files = []\n",
    "    i = 0\n",
    "    for dirpath, dirnames, filenames in os.walk(path):\n",
    "        for f in [f for f in filenames if day in f[:2]]:\n",
    "            if 'ipynb_checkpoints' not in dirpath:\n",
    "                files.append(os.path.join(dirpath, f))\n",
    "                flag = False\n",
    "                \n",
    "    files = sorted(files, key=sorterkey)\n",
    "    \n",
    "    i = 0\n",
    "    for f in files:\n",
    "        i += 1\n",
    "        print(f'{str(i):>2}.  {f[14:]}')\n",
    "        \n",
    "    if flag:\n",
    "        print(\"file does not exist\")\n",
    "\n",
    "    print_hit(files, i)\n",
    "    \n",
    "def sorterkey(line):\n",
    "    day = line[14:16]\n",
    "    time = line[21:26].replace('-', '')\n",
    "    \n",
    "    return (int(day), int(time))\n",
    "    \n",
    "\n",
    "def report():\n",
    "    date = abort(input('month or date: '))\n",
    "    \n",
    "    if date.count('.') == 2:\n",
    "        day, month, year = date.split('.', 2)\n",
    "\n",
    "        if len(year) == 2:\n",
    "            year = '20' + year        \n",
    "        if len(month) == 1:\n",
    "            month = '0' + month\n",
    "\n",
    "        listfiles(day, month, year)\n",
    "\n",
    "    elif date.count('.') == 1:\n",
    "        month, year = date.split('.', 1)\n",
    "\n",
    "        if len(year) == 2:\n",
    "            year = '20' + year\n",
    "        if len(month) == 1:\n",
    "            month = '0' + month\n",
    "\n",
    "        listdays(month, year)\n",
    "\n",
    "    else:\n",
    "        month = date\n",
    "        if len(month) == 1:\n",
    "            month = '0' + month\n",
    "        year = dt.today().strftime(\"%Y\")\n",
    "\n",
    "        listdays(month, year)\n",
    "        \n",
    "report()"
   ]
  },
  {
   "cell_type": "code",
   "execution_count": null,
   "id": "f19205b0-73cb-448e-bfd3-52d4f84b8bac",
   "metadata": {},
   "outputs": [],
   "source": [
    "lst = os.listdir('./txt/2023/07/')\n",
    "print(lst)\n",
    "lst.sort()\n",
    "print(lst)"
   ]
  },
  {
   "cell_type": "code",
   "execution_count": 81,
   "id": "aa4359eb-06b6-4872-a8f3-96081bd647d7",
   "metadata": {},
   "outputs": [
    {
     "name": "stdout",
     "output_type": "stream",
     "text": [
      "[['.ipynb_checkpoints'], ['14', 'Fri-18-19.txt'], ['14', 'Fri-22-32.txt'], ['15', 'Sat-00-42.txt'], ['16', 'Sun-22-51.txt'], ['16', 'Sun-23-36.txt'], ['16', 'Sun-23-39.txt'], ['16', 'Sun-23-40.txt'], ['26', 'Wed-18-28.txt'], ['26', 'Wed-19-06.txt'], ['26', 'Wed-19-08.txt'], ['26', 'Wed-19-13.txt'], ['26', 'Wed-19-14.txt']]\n"
     ]
    }
   ],
   "source": [
    "lst = os.listdir('./txt/2023/07/')\n",
    "lst.sort()\n",
    "day = []\n",
    "lst = [f.split('-', 1) for f in lst]\n",
    "print(lst)"
   ]
  },
  {
   "cell_type": "code",
   "execution_count": 110,
   "id": "f65abd26-6824-443b-b0b9-8aef268bf4f2",
   "metadata": {},
   "outputs": [],
   "source": [
    "def sorterkey(line):\n",
    "    day = line[14:16]\n",
    "    time = line[21:26].replace('-', '')\n",
    "    \n",
    "    return (int(day), int(time))\n",
    "\n",
    "def sorter(lst):\n",
    "    lst = sorted(lst, key=sorterkey)\n",
    "    \n",
    "    print(lst)"
   ]
  },
  {
   "cell_type": "code",
   "execution_count": 90,
   "id": "0181c0be-cf06-4d11-870b-3dbca4de6bb4",
   "metadata": {},
   "outputs": [
    {
     "data": {
      "text/plain": [
       "'2251'"
      ]
     },
     "execution_count": 90,
     "metadata": {},
     "output_type": "execute_result"
    }
   ],
   "source": [
    "a = '16-Sun-22-51.txt'\n",
    "a[7:12].replace('-', '')"
   ]
  },
  {
   "cell_type": "code",
   "execution_count": 121,
   "id": "397b1401-b4fc-4a1e-84c6-fb4582569d8a",
   "metadata": {},
   "outputs": [
    {
     "data": {
      "image/png": "[encoded data removed]",
      "text/plain": [
       "<Figure size 432x288 with 1 Axes>"
      ]
     },
     "metadata": {
      "needs_background": "light"
     },
     "output_type": "display_data"
    }
   ],
   "source": [
    "import matplotlib.pyplot as plt\n",
    "plt.plot([1, 2, 3, 4])\n",
    "plt.ylabel('some numbers')\n",
    "plt.show()"
   ]
  },
  {
   "cell_type": "code",
   "execution_count": null,
   "id": "9f4a0ba9-b140-4467-92f0-46219a991ede",
   "metadata": {},
   "outputs": [],
   "source": []
  },
  {
   "cell_type": "code",
   "execution_count": null,
   "id": "fb04426f-ff1a-42e3-b758-682640b50586",
   "metadata": {},
   "outputs": [],
   "source": []
  },
  {
   "cell_type": "code",
   "execution_count": null,
   "id": "e7daa876-f7b4-40f4-92c3-c3c80f7806f9",
   "metadata": {},
   "outputs": [],
   "source": []
  },
  {
   "cell_type": "code",
   "execution_count": null,
   "id": "55c627bd-0733-4c4f-88e7-2e28b4ffd173",
   "metadata": {},
   "outputs": [],
   "source": []
  },
  {
   "cell_type": "code",
   "execution_count": null,
   "id": "3ce456bd-17e9-46ea-abcd-55ed2dad4668",
   "metadata": {},
   "outputs": [],
   "source": []
  },
  {
   "cell_type": "code",
   "execution_count": null,
   "id": "552c9d62-b871-4814-aec8-776ba564d982",
   "metadata": {},
   "outputs": [],
   "source": []
  },
  {
   "cell_type": "code",
   "execution_count": null,
   "id": "10f24aaa-5942-4dee-a47b-74a7d7a6ebdc",
   "metadata": {},
   "outputs": [],
   "source": []
  },
  {
   "cell_type": "code",
   "execution_count": null,
   "id": "8e8e66f6-9a3f-4712-a6bc-8ee96188ff06",
   "metadata": {},
   "outputs": [],
   "source": []
  },
  {
   "cell_type": "code",
   "execution_count": null,
   "id": "acc62576-f845-43fb-bd58-2be74cb3abd3",
   "metadata": {},
   "outputs": [],
   "source": []
  },
  {
   "cell_type": "code",
   "execution_count": null,
   "id": "a2c097a2-882d-4721-a1d8-f3232f98b8b9",
   "metadata": {},
   "outputs": [],
   "source": []
  },
  {
   "cell_type": "code",
   "execution_count": null,
   "id": "c500e30d-0551-4ee9-bfb0-8d959629cee8",
   "metadata": {},
   "outputs": [],
   "source": []
  },
  {
   "cell_type": "code",
   "execution_count": null,
   "id": "498ed008-a61e-46d6-a01e-f8a2a307c3a5",
   "metadata": {},
   "outputs": [],
   "source": []
  },
  {
   "cell_type": "code",
   "execution_count": null,
   "id": "eea661c5-25a6-487d-841f-c3c9d04ab19b",
   "metadata": {},
   "outputs": [],
   "source": []
  },
  {
   "cell_type": "code",
   "execution_count": null,
   "id": "4acfe36a-f148-4471-870f-01b5a3216603",
   "metadata": {},
   "outputs": [],
   "source": []
  },
  {
   "cell_type": "code",
   "execution_count": null,
   "id": "4f90622a-01fc-4570-abad-bb69d7f2ecee",
   "metadata": {},
   "outputs": [],
   "source": []
  },
  {
   "cell_type": "code",
   "execution_count": null,
   "id": "fafe72b4-ee7b-4b58-b4cd-b41b642dad58",
   "metadata": {},
   "outputs": [],
   "source": []
  },
  {
   "cell_type": "code",
   "execution_count": null,
   "id": "29634428-42ff-4f14-9876-3f951bd3e367",
   "metadata": {},
   "outputs": [],
   "source": []
  },
  {
   "cell_type": "code",
   "execution_count": null,
   "id": "2b80bfec-ac7c-4f6b-873d-26c2eeff9319",
   "metadata": {},
   "outputs": [],
   "source": []
  }
 ],
 "metadata": {
  "kernelspec": {
   "display_name": "Python 3",
   "language": "python",
   "name": "python3"
  },
  "language_info": {
   "codemirror_mode": {
    "name": "ipython",
    "version": 3
   },
   "file_extension": ".py",
   "mimetype": "text/x-python",
   "name": "python",
   "nbconvert_exporter": "python",
   "pygments_lexer": "ipython3",
   "version": "3.8.10"
  }
 },
 "nbformat": 4,
 "nbformat_minor": 5
}
