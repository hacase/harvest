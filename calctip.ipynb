{
 "cells": [
  {
   "cell_type": "code",
   "execution_count": 5,
   "id": "482912f6-8048-4960-9779-b3c9d6449d0e",
   "metadata": {},
   "outputs": [],
   "source": [
    "import numpy as np\n",
    "import sys\n",
    "import os\n",
    "import textwrap\n",
    "from datetime import date as dt, datetime\n",
    "import texts as tx"
   ]
  },
  {
   "cell_type": "code",
   "execution_count": 1,
   "id": "353d0f4a-06d9-4ac1-b80b-da22287d4c9a",
   "metadata": {},
   "outputs": [
    {
     "name": "stdout",
     "output_type": "stream",
     "text": [
      "hi\n"
     ]
    }
   ],
   "source": [
    "lists=[4.5,4.5,4.5,2.3]\n",
    "seco = [int(i) for i in lists]\n",
    "if lists != seco:\n",
    "    print('hi')"
   ]
  },
  {
   "cell_type": "code",
   "execution_count": 15,
   "id": "b93ea2c8-80f0-4397-b795-fe3e40069046",
   "metadata": {},
   "outputs": [
    {
     "data": {
      "text/plain": [
       "4.2"
      ]
     },
     "execution_count": 15,
     "metadata": {},
     "output_type": "execute_result"
    }
   ],
   "source": [
    "np.around(4.25, decimals=1)"
   ]
  },
  {
   "cell_type": "code",
   "execution_count": 34,
   "id": "cb901c16-0da5-4179-a0a0-08f9ee838eb6",
   "metadata": {},
   "outputs": [
    {
     "data": {
      "text/plain": [
       "'4.0     |'"
      ]
     },
     "execution_count": 34,
     "metadata": {},
     "output_type": "execute_result"
    }
   ],
   "source": [
    "this=float(4)\n",
    "'{0: <8}|'.format(this)"
   ]
  },
  {
   "cell_type": "code",
   "execution_count": 1,
   "id": "2fbe4cc3-ea1f-4ed1-b03c-b7831fbdcff0",
   "metadata": {},
   "outputs": [
    {
     "ename": "NameError",
     "evalue": "name 'name' is not defined",
     "output_type": "error",
     "traceback": [
      "\u001b[0;31m---------------------------------------------------------------------------\u001b[0m",
      "\u001b[0;31mNameError\u001b[0m                                 Traceback (most recent call last)",
      "\u001b[0;32m<ipython-input-1-80501154bc48>\u001b[0m in \u001b[0;36m<module>\u001b[0;34m\u001b[0m\n\u001b[0;32m----> 1\u001b[0;31m \u001b[0;32mfor\u001b[0m \u001b[0mi\u001b[0m \u001b[0;32min\u001b[0m \u001b[0mrange\u001b[0m\u001b[0;34m(\u001b[0m\u001b[0mlen\u001b[0m\u001b[0;34m(\u001b[0m\u001b[0mname\u001b[0m\u001b[0;34m)\u001b[0m\u001b[0;34m)\u001b[0m\u001b[0;34m:\u001b[0m\u001b[0;34m\u001b[0m\u001b[0;34m\u001b[0m\u001b[0m\n\u001b[0m\u001b[1;32m      2\u001b[0m     \u001b[0mprint\u001b[0m\u001b[0;34m(\u001b[0m\u001b[0;34m'{num:{width}}'\u001b[0m\u001b[0;34m.\u001b[0m\u001b[0mformat\u001b[0m\u001b[0;34m(\u001b[0m\u001b[0mnum\u001b[0m \u001b[0;34m=\u001b[0m \u001b[0mname\u001b[0m\u001b[0;34m[\u001b[0m\u001b[0mi\u001b[0m\u001b[0;34m]\u001b[0m\u001b[0;34m,\u001b[0m \u001b[0mwidth\u001b[0m \u001b[0;34m=\u001b[0m \u001b[0mmaxstr\u001b[0m\u001b[0;34m)\u001b[0m\u001b[0;34m,\u001b[0m \u001b[0;34mf' {hour[i]:4.2f}h'\u001b[0m\u001b[0;34m,\u001b[0m \u001b[0;34mf' -> {roundtip[i]:5.1f}€'\u001b[0m\u001b[0;34m,\u001b[0m \u001b[0;34mf' #  {realtip[i]:5.2f}'\u001b[0m\u001b[0;34m)\u001b[0m\u001b[0;34m\u001b[0m\u001b[0;34m\u001b[0m\u001b[0m\n\u001b[1;32m      3\u001b[0m \u001b[0;34m\u001b[0m\u001b[0m\n",
      "\u001b[0;31mNameError\u001b[0m: name 'name' is not defined"
     ]
    }
   ],
   "source": [
    "\n",
    "for i in range(len(name)):\n",
    "    print('{num:{width}}'.format(num = name[i], width = maxstr), f' {hour[i]:4.2f}h', f' -> {roundtip[i]:5.1f}€', f' #  {realtip[i]:5.2f}')\n",
    "    "
   ]
  },
  {
   "cell_type": "code",
   "execution_count": 3,
   "id": "3702fbd2-9622-4f4a-a102-6cc4453282fa",
   "metadata": {},
   "outputs": [
    {
     "name": "stdout",
     "output_type": "stream",
     "text": [
      "exit\n"
     ]
    }
   ],
   "source": [
    "import sys\n",
    "\n",
    "def abort(var):\n",
    "    if var == 'exit':\n",
    "        print(var)\n",
    "        \n",
    "abort('exit')        "
   ]
  },
  {
   "cell_type": "code",
   "execution_count": 6,
   "id": "af891c98-f040-47be-b2d9-0b3b90144a1f",
   "metadata": {},
   "outputs": [
    {
     "ename": "SystemExit",
     "evalue": "",
     "output_type": "error",
     "traceback": [
      "An exception has occurred, use %tb to see the full traceback.\n",
      "\u001b[0;31mSystemExit\u001b[0m\n"
     ]
    }
   ],
   "source": [
    "import sys\n",
    "\n",
    "def abort(var):\n",
    "    if var == 'exit':\n",
    "        sys.exit()\n",
    "        \n",
    "abort('exit') "
   ]
  },
  {
   "cell_type": "code",
   "execution_count": 8,
   "id": "c54b88b0-a307-4c77-b8dd-8a6dcd325f07",
   "metadata": {},
   "outputs": [
    {
     "data": {
      "text/plain": [
       "'23.7'"
      ]
     },
     "execution_count": 8,
     "metadata": {},
     "output_type": "execute_result"
    }
   ],
   "source": [
    "value = '23.7'\n",
    "value.replace(',', '.')"
   ]
  },
  {
   "cell_type": "code",
   "execution_count": 9,
   "id": "0774a42d-d15d-4aa7-b82d-385fe3cc8592",
   "metadata": {},
   "outputs": [
    {
     "ename": "SyntaxError",
     "evalue": "invalid syntax (<ipython-input-9-ebc2d024566e>, line 1)",
     "output_type": "error",
     "traceback": [
      "\u001b[0;36m  File \u001b[0;32m\"<ipython-input-9-ebc2d024566e>\"\u001b[0;36m, line \u001b[0;32m1\u001b[0m\n\u001b[0;31m    3*\u001b[0m\n\u001b[0m      ^\u001b[0m\n\u001b[0;31mSyntaxError\u001b[0m\u001b[0;31m:\u001b[0m invalid syntax\n"
     ]
    }
   ],
   "source": [
    "3*\n",
    "4"
   ]
  },
  {
   "cell_type": "code",
   "execution_count": 9,
   "id": "066f83d7-4002-4fd7-aa24-deb7a5b26255",
   "metadata": {},
   "outputs": [
    {
     "data": {
      "text/plain": [
       "3.0"
      ]
     },
     "execution_count": 9,
     "metadata": {},
     "output_type": "execute_result"
    }
   ],
   "source": [
    "value='3'\n",
    "float(value)"
   ]
  },
  {
   "cell_type": "code",
   "execution_count": 44,
   "id": "c5ec341c-4244-4c4f-a014-97f7dfedb67b",
   "metadata": {},
   "outputs": [
    {
     "name": "stdout",
     "output_type": "stream",
     "text": [
      "tip adjusted correctly\n",
      "0 8\n",
      "1 6\n",
      "2 5\n",
      "3 3\n",
      "4 1\n",
      "5 0\n",
      "6 8\n",
      "7 7\n",
      "[2]\n",
      "10.213\n",
      "---------------------------------\n",
      "name  0.50h  ->   0.3€  #   0.283\n",
      "name  1.00h  ->   0.6€  #   0.567\n",
      "name  1.50h  ->   0.8€  #   0.851\n",
      "name  2.00h  ->   1.1€  #   1.135\n",
      "name  2.50h  ->   1.4€  #   1.419\n",
      "name  3.00h  ->   1.7€  #   1.702\n",
      "name  3.50h  ->   2.0€  #   1.986\n",
      "name  4.00h  ->   2.3€  #   2.270\n",
      "---------------------------------\n",
      "total hours = 18.0 h\n",
      "tip ratio = 0.5676 €/h\n"
     ]
    }
   ],
   "source": [
    "#!/usr/bin/env python\n",
    "\n",
    "import numpy as np\n",
    "import sys\n",
    "import os\n",
    "import textwrap\n",
    "\n",
    "tip = [1.2349,1.2559,1.2698,1.2798,1.2898,1.2999,1.29541,1.2921]    \n",
    "tipsum = sum(tip)\n",
    "hour = [0.5*(i+1) for i in range(len(tip))]\n",
    "\n",
    "name = ['name'] * len(l)\n",
    "\n",
    "ratio = tipsum / sum(hour)\n",
    "\n",
    "realtip = np.array([ratio * i for i in hour])                   \n",
    "real = np.array([ratio * i for i in hour])\n",
    "\n",
    "roundtip = np.around(realtip, decimals=1)\n",
    "\n",
    "if np.around(sum(roundtip), decimals=3) > tipsum:\n",
    "    print(\"tip adjusted correctly\")\n",
    "    \n",
    "    check = 5\n",
    "    \n",
    "    while np.around(sum(roundtip), decimals=3) > tipsum:\n",
    "        deci = [int(i * 100) % 10 for i in real]\n",
    "        hit = [i for i, j in enumerate(deci) if j == check]\n",
    "        [print(i,j) for i,j in enumerate(deci)]\n",
    "        \n",
    "        print(hit)\n",
    "        \n",
    "        for i in hit:\n",
    "            real[i] = int(real[i] * 10) / 10\n",
    "                \n",
    "        roundtip = np.around(real, decimals=1)\n",
    "        \n",
    "        check += 1\n",
    "\n",
    "realtip = [int(i * 1000) / 1000 for i in realtip]\n",
    "print(sum(realtip))        \n",
    "\n",
    "maxstr = len(max(name, key=len))\n",
    "\n",
    "\n",
    "print('-' * (maxstr + 29))\n",
    "\n",
    "for i in range(len(name)):\n",
    "    print('{num:{width}}'.format(num = name[i], width = maxstr), f' {hour[i]:4.2f}h', f' -> {roundtip[i]:5.1f}€', f' #  {realtip[i]:6.3f}')\n",
    "    \n",
    "print('-' * (maxstr + 29))\n",
    "\n",
    "print(f'total hours = {sum(hour):} h')   \n",
    "print(f'tip ratio = {ratio:.4} €/h')"
   ]
  },
  {
   "cell_type": "code",
   "execution_count": 54,
   "id": "3fad2c85-d5c3-49b9-8c8e-64d27d08eaf5",
   "metadata": {},
   "outputs": [
    {
     "name": "stdout",
     "output_type": "stream",
     "text": [
      "tip adjusted correctly\n",
      "0 3\n",
      "1 5\n",
      "2 6\n",
      "3 5\n",
      "4 8\n",
      "5 9\n",
      "6 9\n",
      "7 9\n",
      "[1, 3]\n",
      "[1.2349, 1.2559, 1.2698, 1.2598, 1.2898, 1.2999, 1.29541, 1.2921]\n",
      "10.191999999999998\n",
      "---------------------------------\n",
      "name  ->   1.2€  #   1.234\n",
      "name  ->   1.2€  #   1.255\n",
      "name  ->   1.3€  #   1.269\n",
      "name  ->   1.2€  #   1.259\n",
      "name  ->   1.3€  #   1.289\n",
      "name  ->   1.3€  #   1.299\n",
      "name  ->   1.3€  #   1.295\n",
      "name  ->   1.3€  #   1.292\n",
      "---------------------------------\n",
      "total hours = 18.0 h\n",
      "tip ratio = 0.5676 €/h\n"
     ]
    }
   ],
   "source": [
    "#!/usr/bin/env python\n",
    "\n",
    "import numpy as np\n",
    "import sys\n",
    "import os\n",
    "import textwrap\n",
    "\n",
    "tip = [1.2349,1.2559,1.2698,1.2598,1.2898,1.2999,1.29541,1.2921]    \n",
    "\n",
    "name = ['name'] * len(l)\n",
    "\n",
    "realtip =  [1.2349,1.2559,1.2698,1.2598,1.2898,1.2999,1.29541,1.2921]                    \n",
    "real = tip\n",
    "\n",
    "roundtip = np.around(tip, decimals=1)\n",
    "\n",
    "if np.around(sum(roundtip), decimals=3) > sum(tip):\n",
    "    print(\"tip adjusted correctly\")\n",
    "    \n",
    "    check = 5\n",
    "    \n",
    "    while np.around(sum(roundtip), decimals=3) > tipsum:\n",
    "        deci = [int(i * 100) % 10 for i in real]\n",
    "        hit = [i for i, j in enumerate(deci) if j == check]\n",
    "        [print(i,j) for i,j in enumerate(deci)]\n",
    "        \n",
    "        print(hit)\n",
    "        \n",
    "        for i in hit:\n",
    "            real[i] = int(real[i] * 10) / 10.\n",
    "                \n",
    "        roundtip = np.around(real, decimals=1)\n",
    "        \n",
    "        check += 1\n",
    "\n",
    "print(realtip)\n",
    "realtip = [int(i * 1000) / 1000. for i in realtip]\n",
    "print(sum(realtip))        \n",
    "\n",
    "maxstr = len(max(name, key=len))\n",
    "\n",
    "\n",
    "print('-' * (maxstr + 29))\n",
    "\n",
    "for i in range(len(name)):\n",
    "    print('{num:{width}}'.format(num = name[i], width = maxstr), f' -> {roundtip[i]:5.1f}€', f' #  {realtip[i]:6.3f}')\n",
    "    \n",
    "print('-' * (maxstr + 29))\n",
    "\n",
    "print(f'total hours = {sum(hour):} h')   \n",
    "print(f'tip ratio = {ratio:.4} €/h')"
   ]
  },
  {
   "cell_type": "code",
   "execution_count": 1,
   "id": "40ec67a3-22cd-4679-8d9d-6b4337251403",
   "metadata": {},
   "outputs": [
    {
     "data": {
      "text/plain": [
       "True"
      ]
     },
     "execution_count": 1,
     "metadata": {},
     "output_type": "execute_result"
    }
   ],
   "source": [
    "name = []\n",
    "name != 0"
   ]
  },
  {
   "cell_type": "code",
   "execution_count": 4,
   "id": "8e6abede-fa04-4b27-bbfb-77e49d5c3a21",
   "metadata": {},
   "outputs": [
    {
     "name": "stdout",
     "output_type": "stream",
     "text": [
      "False\n"
     ]
    }
   ],
   "source": [
    "string = 'grace'\n",
    "print((('bester barista' or 'beste barista') or 'besten barista') in string)"
   ]
  },
  {
   "cell_type": "code",
   "execution_count": 7,
   "id": "8e352533-b3d2-47e6-9602-62ff34d3766d",
   "metadata": {},
   "outputs": [
    {
     "name": "stdout",
     "output_type": "stream",
     "text": [
      "beste barista\n",
      "grace\n"
     ]
    }
   ],
   "source": [
    "string = 'grace'\n",
    "print('beste barista' or 'besten barista' in string)\n",
    "print(string)"
   ]
  },
  {
   "cell_type": "code",
   "execution_count": 10,
   "id": "60e064f3-51b1-40dd-8111-126940253a5e",
   "metadata": {},
   "outputs": [
    {
     "data": {
      "text/plain": [
       "True"
      ]
     },
     "execution_count": 10,
     "metadata": {},
     "output_type": "execute_result"
    }
   ],
   "source": [
    "string = 'sina ist beste barista'\n",
    "bestbarista = ['bester barista', 'besten barista', 'beste barista', 'best barista']\n",
    "any(s in string for s in bestbarista)"
   ]
  },
  {
   "cell_type": "code",
   "execution_count": 11,
   "id": "a93a0e83-41cd-495b-88cc-17e5e1ed9879",
   "metadata": {},
   "outputs": [
    {
     "name": "stdout",
     "output_type": "stream",
     "text": [
      "18.08.2022, Thursday, time: 17:43\n"
     ]
    }
   ],
   "source": [
    "from datetime import date, datetime\n",
    "\n",
    "today = date.today().strftime(\"%d.%m.%Y\") + ', ' + date.today().strftime(\"%A\") + ', time: ' + datetime.now().strftime(\"%H:%M\")\n",
    "print(today)"
   ]
  },
  {
   "cell_type": "code",
   "execution_count": 6,
   "id": "a115b5be-2094-457c-99bc-5cafc484cd65",
   "metadata": {},
   "outputs": [
    {
     "name": "stdout",
     "output_type": "stream",
     "text": [
      "hi\n"
     ]
    }
   ],
   "source": [
    "print('hi')"
   ]
  },
  {
   "cell_type": "code",
   "execution_count": 17,
   "id": "07ebc3ec-805f-4eff-801a-27692c2b80bf",
   "metadata": {},
   "outputs": [
    {
     "name": "stdout",
     "output_type": "stream",
     "text": [
      "1\n",
      "2\n",
      "3\n",
      "4\n",
      "5\n",
      "6\n",
      "7\n",
      "8\n",
      "9\n"
     ]
    }
   ],
   "source": [
    "for i in range(1, 10):\n",
    "    print(i)"
   ]
  },
  {
   "cell_type": "code",
   "execution_count": 21,
   "id": "1000cd2e-2eda-4778-85c6-720d6a5dff93",
   "metadata": {},
   "outputs": [
    {
     "ename": "AttributeError",
     "evalue": "'int' object has no attribute 'replace'",
     "output_type": "error",
     "traceback": [
      "\u001b[0;31m---------------------------------------------------------------------------\u001b[0m",
      "\u001b[0;31mAttributeError\u001b[0m                            Traceback (most recent call last)",
      "\u001b[0;32m<ipython-input-21-99c28f444a9d>\u001b[0m in \u001b[0;36m<module>\u001b[0;34m\u001b[0m\n\u001b[1;32m      1\u001b[0m \u001b[0ma\u001b[0m \u001b[0;34m=\u001b[0m \u001b[0;34m[\u001b[0m\u001b[0;36m123\u001b[0m\u001b[0;34m,\u001b[0m \u001b[0;36m123\u001b[0m\u001b[0;34m,\u001b[0m \u001b[0;36m123\u001b[0m\u001b[0;34m]\u001b[0m\u001b[0;34m\u001b[0m\u001b[0;34m\u001b[0m\u001b[0m\n\u001b[0;32m----> 2\u001b[0;31m \u001b[0ma\u001b[0m\u001b[0;34m.\u001b[0m\u001b[0mpop\u001b[0m\u001b[0;34m(\u001b[0m\u001b[0;34m)\u001b[0m\u001b[0;34m.\u001b[0m\u001b[0mreplace\u001b[0m\u001b[0;34m(\u001b[0m\u001b[0;34m','\u001b[0m\u001b[0;34m,\u001b[0m \u001b[0;34m'.'\u001b[0m\u001b[0;34m)\u001b[0m\u001b[0;34m\u001b[0m\u001b[0;34m\u001b[0m\u001b[0m\n\u001b[0m",
      "\u001b[0;31mAttributeError\u001b[0m: 'int' object has no attribute 'replace'"
     ]
    }
   ],
   "source": [
    "a = [123, 123, 123]\n",
    "a.pop().replace(',', '.')"
   ]
  },
  {
   "cell_type": "code",
   "execution_count": 26,
   "id": "0ce6f9aa-4036-4fdf-a973-04a63499e797",
   "metadata": {},
   "outputs": [
    {
     "data": {
      "text/plain": [
       "2"
      ]
     },
     "execution_count": 26,
     "metadata": {},
     "output_type": "execute_result"
    }
   ],
   "source": [
    "len(str(10))"
   ]
  },
  {
   "cell_type": "code",
   "execution_count": 2,
   "id": "9d58e1d3-000b-44a5-8a34-3047919f598d",
   "metadata": {},
   "outputs": [
    {
     "name": "stdout",
     "output_type": "stream",
     "text": [
      "0101\n",
      "101\n"
     ]
    }
   ],
   "source": [
    "from datetime import date, datetime\n",
    "print(date.today().strftime(\"%d%m\"))\n",
    "print(int(date.today().strftime(\"%m%d\")))"
   ]
  },
  {
   "cell_type": "code",
   "execution_count": 2,
   "id": "5360d124-df48-47ad-9985-82f5a8165043",
   "metadata": {},
   "outputs": [
    {
     "name": "stdout",
     "output_type": "stream",
     "text": [
      "2023-05-04\n"
     ]
    }
   ],
   "source": [
    "import datetime\n",
    "for i in range(400):\n",
    "    d = datetime.date.today() + datetime.timedelta(days=i)\n",
    "    if int(d.strftime(\"%m%d\")) == 504:\n",
    "        print(d)"
   ]
  },
  {
   "cell_type": "code",
   "execution_count": 3,
   "id": "cc98a712-f6d8-4b1c-ae13-a70080acbb29",
   "metadata": {},
   "outputs": [
    {
     "data": {
      "text/plain": [
       "214"
      ]
     },
     "execution_count": 3,
     "metadata": {},
     "output_type": "execute_result"
    }
   ],
   "source": [
    "int(date.today().strftime(\"%m%d\"))"
   ]
  },
  {
   "cell_type": "code",
   "execution_count": 3,
   "id": "529e39fb-7431-4b7f-8038-2f611e82a51d",
   "metadata": {},
   "outputs": [
    {
     "name": "stdout",
     "output_type": "stream",
     "text": [
      "15.07.2023, Saturday, time: 01:05\n"
     ]
    },
    {
     "name": "stdin",
     "output_type": "stream",
     "text": [
      "1. Name =  report\n"
     ]
    },
    {
     "ename": "NameError",
     "evalue": "name 'abort' is not defined",
     "output_type": "error",
     "traceback": [
      "\u001b[0;31m---------------------------------------------------------------------------\u001b[0m",
      "\u001b[0;31mNameError\u001b[0m                                 Traceback (most recent call last)",
      "\u001b[0;32m<ipython-input-3-e70e886890bf>\u001b[0m in \u001b[0;36m<module>\u001b[0;34m\u001b[0m\n\u001b[1;32m    224\u001b[0m \u001b[0;34m\u001b[0m\u001b[0m\n\u001b[1;32m    225\u001b[0m \u001b[0;32melif\u001b[0m \u001b[0mvalue\u001b[0m \u001b[0;34m==\u001b[0m \u001b[0;34m'report'\u001b[0m\u001b[0;34m:\u001b[0m\u001b[0;34m\u001b[0m\u001b[0;34m\u001b[0m\u001b[0m\n\u001b[0;32m--> 226\u001b[0;31m    \u001b[0mrp\u001b[0m\u001b[0;34m.\u001b[0m\u001b[0mreport\u001b[0m\u001b[0;34m(\u001b[0m\u001b[0;34m)\u001b[0m\u001b[0;34m\u001b[0m\u001b[0;34m\u001b[0m\u001b[0m\n\u001b[0m\u001b[1;32m    227\u001b[0m \u001b[0;34m\u001b[0m\u001b[0m\n\u001b[1;32m    228\u001b[0m \u001b[0;32melse\u001b[0m\u001b[0;34m:\u001b[0m\u001b[0;34m\u001b[0m\u001b[0;34m\u001b[0m\u001b[0m\n",
      "\u001b[0;32m~/Python/calctip/report.py\u001b[0m in \u001b[0;36mreport\u001b[0;34m()\u001b[0m\n\u001b[1;32m     55\u001b[0m \u001b[0;34m\u001b[0m\u001b[0m\n\u001b[1;32m     56\u001b[0m                     \u001b[0mfiles\u001b[0m\u001b[0;34m.\u001b[0m\u001b[0mappend\u001b[0m\u001b[0;34m(\u001b[0m\u001b[0mos\u001b[0m\u001b[0;34m.\u001b[0m\u001b[0mpath\u001b[0m\u001b[0;34m.\u001b[0m\u001b[0mjoin\u001b[0m\u001b[0;34m(\u001b[0m\u001b[0mdirpath\u001b[0m\u001b[0;34m,\u001b[0m \u001b[0mf\u001b[0m\u001b[0;34m)\u001b[0m\u001b[0;34m)\u001b[0m\u001b[0;34m\u001b[0m\u001b[0;34m\u001b[0m\u001b[0m\n\u001b[0;32m---> 57\u001b[0;31m                     \u001b[0mflag\u001b[0m \u001b[0;34m=\u001b[0m \u001b[0;32mFalse\u001b[0m\u001b[0;34m\u001b[0m\u001b[0;34m\u001b[0m\u001b[0m\n\u001b[0m\u001b[1;32m     58\u001b[0m         \u001b[0;32mif\u001b[0m \u001b[0mflag\u001b[0m\u001b[0;34m:\u001b[0m\u001b[0;34m\u001b[0m\u001b[0;34m\u001b[0m\u001b[0m\n\u001b[1;32m     59\u001b[0m             \u001b[0mprint\u001b[0m\u001b[0;34m(\u001b[0m\u001b[0;34m\"file does not exist\"\u001b[0m\u001b[0;34m)\u001b[0m\u001b[0;34m\u001b[0m\u001b[0;34m\u001b[0m\u001b[0m\n",
      "\u001b[0;31mNameError\u001b[0m: name 'abort' is not defined"
     ]
    }
   ],
   "source": [
    " #!/usr/bin/env python\n",
    "# Wrtten by Taro Watanabe, would be nice if you take the code\n",
    "# with the eastereggs secret, addings are allowed ^^\n",
    "# all texts and eastereggs stored in texts.py\n",
    "\n",
    "import numpy as np\n",
    "import sys\n",
    "import os\n",
    "from datetime import datetime as dt\n",
    "import texts as tx\n",
    "import report as rp\n",
    "\n",
    "\n",
    "def abort(var):\n",
    "    var = str(var).lower()\n",
    "    \n",
    "    labort = ['exit', 'stop', 'stopp', 'abbruch', 'abbrechen']\n",
    "    lhelp = ['help', 'hilfe']\n",
    "    lcorr = ['korr', 'korrektur', 'korektur', 'korrigieren',\n",
    "            'korigieren', 'correction', 'corection', 'corr',\n",
    "            'korrection', 'korection', 'corrigieren', 'corigieren']\n",
    "    \n",
    "    if var in labort:\n",
    "        print('Exited session.')\n",
    "        sys.exit()\n",
    "        \n",
    "    elif var in lhelp:\n",
    "        tx.helpman()\n",
    "        sys.exit()\n",
    "        \n",
    "    elif var in lcorr:\n",
    "        print(name)\n",
    "        \n",
    "    else:\n",
    "        return var\n",
    "    \n",
    "def adjust_tip(roundtip, tipsum, real):\n",
    "    if np.around(sum(roundtip), decimals=3) > tipsum:\n",
    "        print(\"tip adjusted correctly\")\n",
    "\n",
    "        check = 5\n",
    "\n",
    "        while np.around(sum(roundtip), decimals=3) > tipsum:\n",
    "            deci = [int(i * 100) % 10 for i in real]\n",
    "            hit = [i for i, j in enumerate(deci) if j == check]\n",
    "\n",
    "            for i in hit:\n",
    "                real[i] = int(real[i] * 10) / 10\n",
    "\n",
    "            roundtip = np.around(real, decimals=1)\n",
    "\n",
    "            check += 1\n",
    "            \n",
    "    return roundtip, tipsum, real        \n",
    "    \n",
    "    \n",
    "def tmode():\n",
    "    count = 0\n",
    "    for i in range(1, 100):\n",
    "        while True:\n",
    "            try:\n",
    "                value = abort(input('{}{}{}{} = '.format(i + count, '.', ' ' * (2 - len(str(i))), \"Hour\"))).replace(',', '.')\n",
    "                \n",
    "                if ' ' in value:\n",
    "                    thour, times = value.split(' ', 1)\n",
    "                    count += int(times) - 1\n",
    "                    for j in range(int(times)):\n",
    "                        hour.append(float(str(thour)))\n",
    "                else:\n",
    "                    hour.append(float(str(value)))\n",
    "                    \n",
    "            except ValueError:\n",
    "                print('input error')\n",
    "                continue\n",
    "            else:\n",
    "                break\n",
    "        \n",
    "        if hour[-1] > 11:\n",
    "            tipsum = float(hour.pop())\n",
    "            break\n",
    "    \n",
    "    ratio = tipsum / sum(hour)\n",
    "\n",
    "    realtip = np.array([ratio * i for i in hour])                   \n",
    "    real = np.array([ratio * i for i in hour])\n",
    "\n",
    "    roundtip = np.around(realtip, decimals=1)\n",
    "\n",
    "    roundtip, tipsum, real = adjust_tip(roundtip, tipsum, real)\n",
    "\n",
    "    realtip = [int(i * 1000) / 1000. for i in realtip]\n",
    "    \n",
    "    \n",
    "    text = list()\n",
    "    \n",
    "    today = dt.today().strftime(\"%d.%m.%Y\") + ', ' + dt.today().strftime(\"%A\") + ', time: ' + dt.now().strftime(\"%H:%M\")\n",
    "    text.append(today + '\\n')\n",
    "            \n",
    "    print('-' *  32)\n",
    "    text.append('-' *  32 + '\\n')\n",
    "\n",
    "    for i in range(len(hour)):\n",
    "        t = f'{i+1}\"{\" \" * (4 - len(str(i+1)))}{hour[i]:4.2f}h  -> {roundtip[i]:5.1f}€  #  {realtip[i]:6.3f}'\n",
    "        print(t)\n",
    "        text.append(t + '\\n')\n",
    "\n",
    "    print('-' *  32)\n",
    "    text.append('-' *  32 + '\\n')\n",
    "\n",
    "    t = f'total hours = {sum(hour):} h'\n",
    "    print(t)\n",
    "    text.append(t + '\\n')\n",
    "    \n",
    "    \n",
    "    t = f'tip ratio = {ratio:.4} €/h'\n",
    "    print(t)\n",
    "    text.append(t + '\\n')\n",
    "    \n",
    "    timestamp = dt.today().strftime(\"%d\") + '-' + dt.today().strftime(\"%a\") + '-' + dt.now().strftime(\"%H-%M\")\n",
    "    dirname = './txt/'+ dt.today().strftime(\"%Y\") + '/' + dt.today().strftime(\"%m\") + '/'\n",
    "    path = dirname + '/' + timestamp +'.txt'\n",
    "\n",
    "    os.makedirs(os.path.dirname(dirname), exist_ok=True)\n",
    "    with open(path, 'w+') as f:\n",
    "        f.writelines(text)\n",
    "            \n",
    "            \n",
    "def normal(value, name, hour):\n",
    "    i = 1\n",
    "    \n",
    "    while True:\n",
    "        if value == '0':\n",
    "            print('Gib mindestens einen Namen ein!\\nBei Eingabe von 0 wird die Nameneingabe abgebrochen!')\n",
    "            value = abort(input('{}{} = '.format(i, \".  Name\")))\n",
    "\n",
    "        elif tx.easteregg(value) != False:\n",
    "            value = abort(input('{}{} = '.format(i, \".  Name\")))\n",
    "\n",
    "        else:\n",
    "            break\n",
    "\n",
    "    name.append(value)\n",
    "    \n",
    "    while '0' not in name:    \n",
    "        while True:\n",
    "            try:\n",
    "                value = abort(input('{} = '.format(\"   Hour\")))\n",
    "\n",
    "                if tx.easteregg(value) != False:\n",
    "                    continue\n",
    "\n",
    "                hour.append(float(value.replace(',', '.')))\n",
    "\n",
    "            except ValueError:\n",
    "                print('Gib nur eine Zahl ein für die Stunden!')\n",
    "                continue\n",
    "\n",
    "            else:\n",
    "                break\n",
    "\n",
    "        i += 1\n",
    "        value = abort(input('{}{}{}{} = '.format(i, '.', ' ' * (2 - len(str(i))), \"Name\")))\n",
    "\n",
    "        while tx.easteregg(value) != False:\n",
    "            value = abort(input('{}{}{}{} = '.format(i, '.', ' ' * (2 - len(str(i))), \"Name\")))\n",
    "\n",
    "        name.append(value)\n",
    "\n",
    "    name = name[:-1]\n",
    "\n",
    "    while True:\n",
    "        try:\n",
    "            tipsum = abort(input(\"total tip = \"))\n",
    "\n",
    "            if tx.easteregg(tipsum) != False:\n",
    "                continue\n",
    "\n",
    "            tipsum = float(tipsum.replace(',', '.'))\n",
    "\n",
    "        except ValueError:\n",
    "            print('Gib nur eine Zahl ein für das gesamte Trinkgeld!')\n",
    "            continue\n",
    "\n",
    "        else:\n",
    "            break\n",
    "\n",
    "    ratio = tipsum / sum(hour)\n",
    "\n",
    "    realtip = np.array([ratio * i for i in hour])                   \n",
    "    real = np.array([ratio * i for i in hour])\n",
    "\n",
    "    roundtip = np.around(realtip, decimals=1)\n",
    "\n",
    "    roundtip, tipsum, real = adjust_tip(roundtip, tipsum, real)\n",
    "\n",
    "    realtip = [int(i * 1000) / 1000. for i in realtip]        \n",
    "\n",
    "    maxstr = len(max(name, key=len))\n",
    "\n",
    "    print('-' * (maxstr + 29))\n",
    "\n",
    "    for i in range(len(name)):\n",
    "        print('{num:{width}}'.format(num = name[i], width = maxstr), f' {hour[i]:4.2f}h', f' -> {roundtip[i]:5.1f}€', f' #  {realtip[i]:6.3f}')\n",
    "\n",
    "    print('-' * (maxstr + 29))\n",
    "\n",
    "    print(f'total hours = {sum(hour):} h')   \n",
    "    print(f'tip ratio = {ratio:.4} €/h')\n",
    "    \n",
    "\n",
    "tx.datereasteregg()\n",
    "    \n",
    "name = []\n",
    "hour = []\n",
    "i = 1\n",
    "\n",
    "today = dt.today().strftime(\"%d.%m.%Y\") + ', ' + dt.today().strftime(\"%A\") + ', time: ' + dt.now().strftime(\"%H:%M\")\n",
    "print(today)\n",
    "\n",
    "value = abort(input('{}{} = '.format(i, \". Name\")))\n",
    "\n",
    "if value == 'tmode':\n",
    "    tmode()\n",
    "    \n",
    "elif value == 'report':\n",
    "    rp.report()\n",
    "    \n",
    "else:\n",
    "    normal(value, name, hour)"
   ]
  },
  {
   "cell_type": "code",
   "execution_count": 12,
   "id": "0161b9db-3647-45fd-a6ea-bd679da248d0",
   "metadata": {},
   "outputs": [],
   "source": [
    "text = list()\n",
    "text.append('this' + '\\n')\n",
    "that = 'that'\n",
    "text.append(that + 'there')\n",
    "\n",
    "timestamp = dt.today().strftime(\"%d\") + '-' + dt.today().strftime(\"%a\") + '-' + dt.now().strftime(\"%H-%M\")\n",
    "path = './txt/'+ dt.today().strftime(\"%Y\") + '/' + timestamp +'.txt'\n",
    "\n",
    "os.makedirs(os.path.dirname('./txt/'+ dt.today().strftime(\"%Y\") + '/'), exist_ok=True)\n",
    "with open(path, 'w+') as f:\n",
    "    f.writelines(text)"
   ]
  },
  {
   "cell_type": "code",
   "execution_count": 13,
   "id": "73f81d70-f043-40ba-b39a-0a5bed30443e",
   "metadata": {},
   "outputs": [
    {
     "name": "stdout",
     "output_type": "stream",
     "text": [
      "this\n"
     ]
    }
   ],
   "source": [
    "t = f'this'\n",
    "print(t)"
   ]
  },
  {
   "cell_type": "code",
   "execution_count": 29,
   "id": "9432c26b-610a-4fa4-8e08-a2b682b04b17",
   "metadata": {},
   "outputs": [
    {
     "ename": "NameError",
     "evalue": "name 'roundtip' is not defined",
     "output_type": "error",
     "traceback": [
      "\u001b[0;31m---------------------------------------------------------------------------\u001b[0m",
      "\u001b[0;31mNameError\u001b[0m                                 Traceback (most recent call last)",
      "\u001b[0;32m<ipython-input-29-7af7eea31a84>\u001b[0m in \u001b[0;36m<module>\u001b[0;34m\u001b[0m\n\u001b[1;32m      2\u001b[0m \u001b[0;34m\u001b[0m\u001b[0m\n\u001b[1;32m      3\u001b[0m \u001b[0;32mfor\u001b[0m \u001b[0mi\u001b[0m \u001b[0;32min\u001b[0m \u001b[0mrange\u001b[0m\u001b[0;34m(\u001b[0m\u001b[0mlen\u001b[0m\u001b[0;34m(\u001b[0m\u001b[0mhour\u001b[0m\u001b[0;34m)\u001b[0m\u001b[0;34m)\u001b[0m\u001b[0;34m:\u001b[0m\u001b[0;34m\u001b[0m\u001b[0;34m\u001b[0m\u001b[0m\n\u001b[0;32m----> 4\u001b[0;31m     \u001b[0mt\u001b[0m \u001b[0;34m=\u001b[0m \u001b[0;34mf'{i+1}\"{\" \" * (4 - len(str(i+1)))}{hour[i]:4.2f}h  -> {roundtip[i]:5.1f}€  #  {realtip[i]:6.3f}'\u001b[0m\u001b[0;34m\u001b[0m\u001b[0;34m\u001b[0m\u001b[0m\n\u001b[0m\u001b[1;32m      5\u001b[0m     \u001b[0mprint\u001b[0m\u001b[0;34m(\u001b[0m\u001b[0mt\u001b[0m\u001b[0;34m)\u001b[0m\u001b[0;34m\u001b[0m\u001b[0;34m\u001b[0m\u001b[0m\n",
      "\u001b[0;31mNameError\u001b[0m: name 'roundtip' is not defined"
     ]
    }
   ],
   "source": [
    "hour = [1, 2, 3, 4, 5]\n",
    "\n",
    "for i in range(len(hour)):\n",
    "    t = f'{i+1}\"{\" \" * (4 - len(str(i+1)))}{hour[i]:4.2f}h  -> {roundtip[i]:5.1f}€  #  {realtip[i]:6.3f}'\n",
    "    print(t)"
   ]
  },
  {
   "cell_type": "code",
   "execution_count": 28,
   "id": "485334c8-547e-40c4-a8ef-e67af05b1e03",
   "metadata": {},
   "outputs": [
    {
     "name": "stdout",
     "output_type": "stream",
     "text": [
      "1\"   1.00\n",
      "2\"   2.00\n",
      "3\"   3.00\n",
      "4\"   4.00\n",
      "5\"   5.00\n"
     ]
    }
   ],
   "source": [
    "hour = [1, 2, 3, 4, 5]\n",
    "\n",
    "for i in range(len(hour)):\n",
    "    t = f'{i+1}\"{\" \" * (4 - len(str(i+1)))}{hour[i]:4.2f}'\n",
    "    print(t)"
   ]
  },
  {
   "cell_type": "code",
   "execution_count": 113,
   "id": "89c7f889-8b6c-4fb0-9ad5-35f48476fdcd",
   "metadata": {},
   "outputs": [
    {
     "name": "stdin",
     "output_type": "stream",
     "text": [
      " 7.23\n"
     ]
    },
    {
     "name": "stdout",
     "output_type": "stream",
     "text": [
      "1. 15-Sat-00-42.txt\n",
      "2. 14-Fri-22-32.txt\n",
      "3. 14-Fri-21-59.txt\n",
      "i have a bad feeling about this\n"
     ]
    }
   ],
   "source": [
    "def listdays(month, year):\n",
    "    try:\n",
    "        path = './txt/'+ year + '/' + month + '/'\n",
    "\n",
    "        flag = True\n",
    "        files = []\n",
    "        i = 0\n",
    "        for dirpath, dirnames, filenames in os.walk(path):\n",
    "            for f in filenames:\n",
    "                if 'checkpoint' not in f:\n",
    "                    i += 1\n",
    "                    print(str(i) + '.', f)\n",
    "\n",
    "                    files.append(os.path.join(dirpath, f))\n",
    "                    flag = False\n",
    "        if flag:\n",
    "            print(\"directory does not exist\")\n",
    "\n",
    "        data = np.genfromtxt(path, dtype='str', delimiter='\\t')\n",
    "        print(data)\n",
    "\n",
    "    except:\n",
    "        print('i have a bad feeling about this')\n",
    "\n",
    "def listfiles(day, month, year):\n",
    "    try:\n",
    "        path = './txt/'+ year + '/' + month + '/'\n",
    "\n",
    "        flag = True\n",
    "        files = []\n",
    "        i = 0\n",
    "        for dirpath, dirnames, filenames in os.walk(path):\n",
    "            for f in [f for f in filenames if day in f[:2]]:\n",
    "                if 'ipynb_checkpoints' not in dirpath:\n",
    "                    i += 1\n",
    "                    print(i, os.path.join(dirpath, f))\n",
    "\n",
    "                    files.append(os.path.join(dirpath, f))\n",
    "                    flag = False\n",
    "        if flag:\n",
    "            print(\"file does not exist\")\n",
    "\n",
    "        data = np.genfromtxt(path, dtype='str', delimiter='\\t')\n",
    "        print(data)\n",
    "\n",
    "    except:\n",
    "        print('i have a bad feeling about this')\n",
    "\n",
    "date = input()\n",
    "if date.count('.') == 2:\n",
    "    day, month, year = date.split('.', 2)\n",
    "    \n",
    "    if len(year) == 2:\n",
    "        year = '20' + year        \n",
    "    if len(month) == 1:\n",
    "        month = '0' + month\n",
    "    \n",
    "    listfiles(day, month, year)\n",
    "    \n",
    "elif date.count('.') == 1:\n",
    "    month, year = date.split('.', 1)\n",
    "    \n",
    "    if len(year) == 2:\n",
    "        year = '20' + year\n",
    "    if len(month) == 1:\n",
    "        month = '0' + month\n",
    "        \n",
    "    listdays(month, year)\n",
    "    \n",
    "else:\n",
    "    month = date\n",
    "    if len(month) == 1:\n",
    "        month = '0' + month\n",
    "    year = dt.today().strftime(\"%Y\")\n",
    "    \n",
    "    listdays(month, year)"
   ]
  },
  {
   "cell_type": "code",
   "execution_count": 99,
   "id": "34dbe3a4-3176-4c21-87df-9f4e7cf43e69",
   "metadata": {},
   "outputs": [
    {
     "name": "stdout",
     "output_type": "stream",
     "text": [
      "12\n",
      "1234 this 123\n"
     ]
    }
   ],
   "source": [
    "l = '123'\n",
    "print(l[:2])\n",
    "print(l + '4', 'this', l)"
   ]
  },
  {
   "cell_type": "code",
   "execution_count": null,
   "id": "0ca00a35-713a-457a-a4a3-1e864b11e88b",
   "metadata": {},
   "outputs": [],
   "source": []
  },
  {
   "cell_type": "code",
   "execution_count": null,
   "id": "35f86545-00b6-4342-a829-052827498fc5",
   "metadata": {},
   "outputs": [],
   "source": []
  },
  {
   "cell_type": "code",
   "execution_count": null,
   "id": "f5b6c020-dc81-4aa3-8e90-6b4d97efad9c",
   "metadata": {},
   "outputs": [],
   "source": []
  },
  {
   "cell_type": "code",
   "execution_count": null,
   "id": "c58ea5ca-6177-48cf-8fcb-b42018790c22",
   "metadata": {},
   "outputs": [],
   "source": []
  },
  {
   "cell_type": "code",
   "execution_count": null,
   "id": "9d6742ec-d9ee-4f8d-8574-18e3a65d9dda",
   "metadata": {},
   "outputs": [],
   "source": []
  },
  {
   "cell_type": "code",
   "execution_count": null,
   "id": "64803b61-87cf-4140-9f3b-c3c6e4526387",
   "metadata": {},
   "outputs": [],
   "source": []
  },
  {
   "cell_type": "code",
   "execution_count": null,
   "id": "f3b901e6-bc9c-4b39-9ed4-d539e40e15a6",
   "metadata": {},
   "outputs": [],
   "source": []
  },
  {
   "cell_type": "code",
   "execution_count": null,
   "id": "5de12491-a5d7-406d-b5f1-4513f409a82b",
   "metadata": {},
   "outputs": [],
   "source": []
  },
  {
   "cell_type": "code",
   "execution_count": null,
   "id": "321b4109-143f-4494-9529-54adddeaedc1",
   "metadata": {},
   "outputs": [],
   "source": []
  },
  {
   "cell_type": "code",
   "execution_count": null,
   "id": "fc6d891b-4687-40d1-a85b-f9c9ae5666e1",
   "metadata": {},
   "outputs": [],
   "source": []
  },
  {
   "cell_type": "code",
   "execution_count": null,
   "id": "a1f5e0db-fbbb-46c4-9d96-87a8b975b487",
   "metadata": {},
   "outputs": [],
   "source": []
  }
 ],
 "metadata": {
  "kernelspec": {
   "display_name": "Python 3",
   "language": "python",
   "name": "python3"
  },
  "language_info": {
   "codemirror_mode": {
    "name": "ipython",
    "version": 3
   },
   "file_extension": ".py",
   "mimetype": "text/x-python",
   "name": "python",
   "nbconvert_exporter": "python",
   "pygments_lexer": "ipython3",
   "version": "3.8.10"
  }
 },
 "nbformat": 4,
 "nbformat_minor": 5
}
