{
 "cells": [
  {
   "cell_type": "code",
   "execution_count": 1,
   "id": "353d0f4a-06d9-4ac1-b80b-da22287d4c9a",
   "metadata": {},
   "outputs": [
    {
     "name": "stdout",
     "output_type": "stream",
     "text": [
      "hi\n"
     ]
    }
   ],
   "source": [
    "lists=[4.5,4.5,4.5,2.3]\n",
    "seco = [int(i) for i in lists]\n",
    "if lists != seco:\n",
    "    print('hi')"
   ]
  },
  {
   "cell_type": "code",
   "execution_count": 2,
   "id": "b93ea2c8-80f0-4397-b795-fe3e40069046",
   "metadata": {},
   "outputs": [],
   "source": [
    "def pinted(text):\n",
    "    wrapper = textwrap.TextWrapper(initial_indent='\\t', subsequent_indent='\\t')\n",
    "    wrapped = textwrap.fill(text=text, width=55)\n",
    "    print(wrapped)\n",
    "\n",
    "def abort(var):\n",
    "    labort = ['exit', 'Exit', 'EXIT',\n",
    "              'stop', 'Stop', 'STOP',\n",
    "              'stopp', 'Stopp', 'STOPP',\n",
    "              'abbruch', 'Abbruch', 'ABBRUCH',\n",
    "              'abbrechen', 'Abbrechen', 'ABBRECHEN']\n",
    "    \n",
    "    lhelp = ['help', 'Help', 'HELP',\n",
    "             'hilfe', 'Hilfe', 'HILFE']\n",
    "    \n",
    "    if var in labort:\n",
    "        print('Exited session.')\n",
    "        sys.exit()\n",
    "        \n",
    "    elif var in lhelp:\n",
    "        print('\\n')\n",
    "        print('CALCTIP WIKI\\n')\n",
    "        print('-*- Program zum Ausrechnen vom Trinkgeld bei Mayras Wohnzimmercafe.')\n",
    "        print('Zum Starten muss der Befehl aufgerufen werden:',\n",
    "              '\\033[1;3mpython3 calctip.py\\033[0m\\n\\n\\n')\n",
    "        \n",
    "        print('EINGABE ABBRECHEN')\n",
    "        text = 'Bei jeglicher Eingabe kann \\033[1;3mexit\\033[0m, \\033[1;3mabbruch\\033[0m oder \\033[1;3mstop\\033[0m eingegeben werden, um den gesamten Vorgang abzubrechen. Die Daten gehen dabei verloren.'\n",
    "        pinted(text)\n",
    "        print('\\n')        \n",
    "        \n",
    "        print('EINGABE NAME, HOUR')\n",
    "        text = 'Geben Sie bei \\033[1;3mName\\033[0m einen Namen und bei \\033[1;3mHour\\033[0m die zugehörigen Stunden als Zahl ein. Bei den Stunden dürfen keine Einheiten oder Buchstaben eingegeben werden; Dezimaltrennzeichen kann ein Komma oder Punkt sein. Gleiche Namen können eingegeben werden.'\n",
    "        pinted(text)\n",
    "        text = 'Als Name kann \\033[1;3mhelp\\033[0m, \\033[1;3mexit\\033[0m \\033[1;3mabbruch\\033[0m und \\033[1;3mstop\\033[0m NICHT verwendet werden.'\n",
    "        pinted(text)\n",
    "        text = 'Nach vollständiger Eingabe der Namen mit den Stunden muss bei dem Eingabefeld \\033[1;3mName\\033[0m eine 0 (die Zahl Null) eingegeben werden, um die Eingabe der Namen und Stunden zu beenden.'\n",
    "        pinted(text)\n",
    "        print('\\n')\n",
    "        \n",
    "        print('EINGABE TOTAL TIP')\n",
    "        text = 'Geben Sie bei \\033[1;3mtotal tip\\033[0m den geamten Betrag des Trinkgeldes als Zahl ein ohne Einheiten oder Buchstaben; Dezimaltrennzeichen kann ein Komma oder Punkt sein.'\n",
    "        pinted(text)\n",
    "        print('\\n')\n",
    "        \n",
    "        print('TRINKGELDTABELLE')\n",
    "        text = 'Die eingegebenen Namen und Stunden werden in der eingegebenen Reihenfolge ausgegeben. Das Trinkgeld wird nach den Regeln des Kaufmännischen Rundens gerundet und in ganze 10ct und ganze 1ct gerundete Trinkgeldbeträge ausgegeben. Nach der Tabelle werden die gesamten gearbeiteten Stunden und das Verhältnis Trinkgeld pro Stunde angezeigt.'\n",
    "        pinted(text)\n",
    "        print('\\n')\n",
    "        \n",
    "        print('TRNKGELDBERECHNUNG')\n",
    "        text = 'Das Trinkgeld wird auf die gesamten Stunden aufgeteilt und mit den gearbeiteten Stunden multipliziert.'\n",
    "        pinted(text)\n",
    "        print('\\n          gesamtes Trinkgeld')\n",
    "        print('          ------------------ = Trinkgeld pro Stunde')\n",
    "        print('             alle Stunden')\n",
    "        print('\\n          Trinkgeld pro Stunde * gearbeitete Stunden = Trinkgeld\\n')\n",
    "        text = 'Das berechnete Trinkgeld wird dabei angepasst, sodass das herausgegebene gerundete Trinkgeld aller Personen nicht das ursprüngliche eingegebene Trinkgeld übersteigt. Falls das herausgegebene Trinkgeld das Eingegebene übersteigen sollte, wird die Rundungsregel angepasst. In diesem Program werden bei den auf 1ct gerundeten Beträgen nach 5ct Beträgen gesucht, welche nun auf 10ct abgerundet werden. Falls weiterhin das Trinkgeld übersteigt, wird nach 6ct, 7ct... Beträgen gesucht. Nach der Suche nach 9ct Beträgen kann das herausgegebene auf 10ct gerundete Trinkgeld nicht das ursprünglich eingegebene Trinkgled übersteigen.'\n",
    "        pinted(text)\n",
    "        text = 'Falls das Trinkgeld nicht nach den Regeln des Kaufmännischen Rundens gerundet wurde, wird vor der Trinkgeldtabelle die Ausgabe \\033[1;3mtip adjusted correctly\\033[0m gedruckt. Das in der Trinkgeldtabelle angezeigte Trinkgeld, welches auf ganze 1ct gerundet ist, bleibt zum Zweck der Kontrolle bei dem ganzen Prozess invariant.'\n",
    "        pinted(text)\n",
    "        print('\\n\\n\\n\\n\\n')\n",
    "        \n",
    "        print('Zum Starten den Befehl eingeben:',\n",
    "              '\\033[1;3mpython3 calctip.py\\033[0m\\n\\n\\n\\n')\n",
    "        \n",
    "        sys.exit()\n",
    "    else:\n",
    "        return var\n",
    "    \n",
    "\n",
    "def easteregg(string):\n",
    "    lthor = ['thor', 'thor, god of thunder', 'son of odin', 'strongest avenger']\n",
    "    \n",
    "    kid = r'''\n",
    "　　 l￣￣￣￣￣l\n",
    "　　 l　　　　　l\n",
    "　　 l　　　　　l\n",
    "　　 l＿＿＿＿＿l\n",
    "　＿_l＿＿＿＿＿l_＿\n",
    "　｜｜　 ｜ ￣＼l\n",
    "　｜ L_＿/＿＿＿l\n",
    "　▲　＼｜｜｜ ／\n",
    "　　　　￣￣￣\n",
    "'''\n",
    "    conan = 'APTX4869'\n",
    "    \n",
    "    order66 = r'''                   \n",
    "                                     /~\\\n",
    "                                    |oo )      We're doomed!\n",
    "                                    _\\=/_\n",
    "                    ___        #   /  _  \\   #\n",
    "                   /() \\        \\\\//|/.\\|\\\\//\n",
    "                 _|_____|_       \\/  \\_/  \\/\n",
    "                | | === | |         |\\ /|\n",
    "                |_|  O  |_|         \\_ _/\n",
    "                 ||  O  ||          | | |\n",
    "                 ||__*__||          | | |\n",
    "                |~ \\___/ ~|         []|[]\n",
    "                /=\\ /=\\ /=\\         | | |\n",
    "________________[_]_[_]_[_]________/_]_[_\\_________________________'''\n",
    "    \n",
    "    vader = r\"\"\"\n",
    "   _________________________________\n",
    "  |:::::::::::::;;::::::::::::::::::|\n",
    "  |:::::::::::'~||~~~``:::::::::::::|\n",
    "  |::::::::'   .':     o`:::::::::::|\n",
    "  |:::::::' oo | |o  o    ::::::::::|\n",
    "  |::::::: 8  .'.'    8 o  :::::::::|\n",
    "  |::::::: 8  | |     8    :::::::::|\n",
    "  |::::::: _._| |_,...8    :::::::::|\n",
    "  |::::::'~--.   .--. `.   `::::::::|\n",
    "  |:::::'     =8     ~  \\ o ::::::::|\n",
    "  |::::'       8._ 88.   \\ o::::::::|\n",
    "  |:::'   __. ,.ooo~~.    \\ o`::::::|\n",
    "  |:::   . -. 88`78o/:     \\  `:::::|\n",
    "  |::'     /. o o \\ ::      \\88`::::|\n",
    "  |:;     o|| 8 8 |d.        `8 `:::|\n",
    "  |:.       - ^ ^ -'           `-`::|\n",
    "  |::.                          .:::|\n",
    "  |:::::.....           ::'     ``::|\n",
    "  |::::::::-'`-        88          `|\n",
    "  |:::::-'.          -       ::     |\n",
    "  |:-~. . .                   :     |\n",
    "  | .. .   ..:   o:8      88o       |\n",
    "  |. .     :::   8:P     d888. . .  |\n",
    "  |.   .   :88   88      888'  . .  |\n",
    "  |   o8  d88P . 88   ' d88P   ..   |\n",
    "  |  88P  888   d8P   ' 888         |\n",
    "  |   8  d88P.'d:8  .- dP~ o8       |  \n",
    "  |      888   888    d~ o888       |\n",
    "  |_________________________________|\n",
    "\"\"\"\n",
    "    \n",
    "    father = r\"\"\"\n",
    "                        .-.\n",
    "                       |_:_|\n",
    "                      /(_Y_)\\\n",
    " .                   ( \\ M// )\n",
    "  '.               _.''/'-'''._\n",
    "    ':            /.--'[[[[]'--.\\\n",
    "      ':        /_'  : |::'| :  '.\\\n",
    "        ':     //   ./ |oUU| ''  :\\\n",
    "          ':  _:'..'  |___|_/ :   :|\n",
    "            ':.  .'  |_[___]_|  :.':\\\n",
    "             [:: |  :  | |  :   ; : \\\n",
    "              '-'   \" .| |.' \\ .;.' |\n",
    "              |\\    \\ '-'   :       |\n",
    "              |  \\   \\.:    :   |   |\n",
    "              |   \\  |  '.   :    \\ |\n",
    "              /       \\  :. .;       |\n",
    "             /     |   |  :__/     :  \\\n",
    "            |  |   |    \"   | \\  |   ||\n",
    "           /   \\  : :  |:   /  |__|   /|\n",
    "           |     : : :_/_|  /'._  '--|_\n",
    "           /___.-/_|-'   \\  \\\n",
    "                                 \"\"\"\n",
    "    \n",
    "    yoda = r\"\"\"\n",
    "                     ____\n",
    "                  _.' :  '._\n",
    "              .-.''.  ;   .''.-.\n",
    "     __      / : ___\\;  /___ ; \\      __\n",
    "   ,'_ ''--.:__;'.-.';: :'.-.':__;.--'' _',\n",
    "   :' '.L''--.. '<@.';_  ',@>' ..--''J.' ':\n",
    "        ':-.._J '-.-'L__ '-- ' L_..-;'\n",
    "          '-.__ ;  .-'  '-.  : __.-'\n",
    "              L ' /.------.\\' J\n",
    "               '-.   '--'   .-'\n",
    "              __.l|-:_JL_;-|;.__\n",
    "           .-j/'.;  ;''''  / .'\\-.\n",
    "         .' /:'. '-.:     .-' .'|  '.\n",
    "      .-'  / ;  '-. '-..-' .-'  |    '-.\n",
    "   .+'-.  | :      '-.__.-'      '-._   \\\n",
    "   ; \\ '.| ;                    | : '+. ;\n",
    "   :  ;   | ;                    | ;  : \\\n",
    "  : '.'-; ;  ;                  :  ;   ,/;\n",
    "   ;    -: ;  :                ;  : .-''  :\n",
    "   \\   \\    : ;             : \\-'      :\n",
    "     ;'.   \\  ; :            ;.'_..--  / ;\n",
    "    :  '-.  '-:  ;          :/.'      .'  :\n",
    "     \\      .-'\\        /t-''   ':-+.   :\n",
    "       '.  .-'    'l    __/ /'. :  ; ; \\ ;\n",
    "         \\  .-'' .-'-.-'  .' .'j \\/   ;/\n",
    "          \\ / -''   /.     .'.' ;_:'    ;\n",
    "           :- ''-.'./-.'     /    '.___.'\n",
    "                 \\ t  ._  /  \n",
    "                  |-.t-._:|\n",
    "                  \"\"\"\n",
    "    \n",
    "    barista = r\"\"\"\n",
    " _________________________ \n",
    "< taro ist bester barista >\n",
    " ------------------------- \n",
    " \\     ____________ \n",
    "  \\    |__________|\n",
    "      /           /\\\n",
    "     /           /  \\\n",
    "    /___________/___/|\n",
    "    |          |     |\n",
    "    |  ==\\ /== |     |\n",
    "    |   O   O  | \\ \\ |\n",
    "    |     <    |  \\ \\|\n",
    "   /|          |   \\ \\\n",
    "  / |  \\_____/ |   / /\n",
    " / /|          |  / /|\n",
    "/||\\|          | /||\\/\n",
    "    -------------|   \n",
    "        | |    | | \n",
    "       <__/    \\__>\n",
    "       \"\"\"\n",
    "    \n",
    "    ghostbusters = r\"\"\"\n",
    " _______________\n",
    "< GHOSTBUSTERS! >\n",
    " ---------------\n",
    "          \\\n",
    "           \\\n",
    "            \\          __---__\n",
    "                    _-       /--______\n",
    "               __--( /     \\ )XXXXXXXXXXX\\v.\n",
    "             .-XXX(   O   O  )XXXXXXXXXXXXXXX-\n",
    "            /XXX(       U     )        XXXXXXX\\\n",
    "          /XXXXX(              )--_  XXXXXXXXXXX\\\n",
    "         /XXXXX/ (      O     )   XXXXXX   \\XXXXX\\\n",
    "         XXXXX/   /            XXXXXX   \\__ \\XXXXX\n",
    "         XXXXXX__/          XXXXXX         \\__---->\n",
    " ---___  XXX__/          XXXXXX      \\__         /\n",
    "   \\-  --__/   ___/\\  XXXXXX            /  ___--/=\n",
    "    \\-\\    ___/    XXXXXX              '--- XXXXXX\n",
    "       \\-\\/XXX\\ XXXXXX                      /XXXXX\n",
    "         \\XXXXXXXXX   \\                    /XXXXX/\n",
    "          \\XXXXXX      >                 _/XXXXX/\n",
    "            \\XXXXX--__/              __-- XXXX/\n",
    "             -XXXXXXXX---------------  XXXXXX-\n",
    "                \\XXXXXXXXXXXXXXXXXXXXXXXXXX/\n",
    "                  \"\"VXXXXXXXXXXXXXXXXXXV\"\"\n",
    "                  \"\"\"\n",
    "    \n",
    "    bestbarista = ['bester barista', 'besten barista', 'beste barista', 'best barista']\n",
    "    \n",
    "    \n",
    "    if string in lthor:\n",
    "        print('access denied.')\n",
    "    elif string == 'point break':\n",
    "        print('I love you 3000')\n",
    "    elif string == 'banner':\n",
    "        print('welcome, strongest avenger')\n",
    "        \n",
    "    elif string == 'kaitou1412':\n",
    "        print(kid)\n",
    "    elif string == 'shellingford':\n",
    "        print(conan)\n",
    "    \n",
    "    elif string == 'order 66':\n",
    "        print(order66)\n",
    "    elif string == 'may the force be with you':\n",
    "        print(vader)\n",
    "    elif string == 'i am your father':\n",
    "        print(father)\n",
    "    elif string == 'the force is strong with this one':\n",
    "        print(yoda)\n",
    "            \n",
    "    elif any(s in string for s in bestbarista):\n",
    "        print(barista)\n",
    "    elif string == 'who you gonna call':\n",
    "        print(ghostbusters)\n",
    "        \n",
    "    else:\n",
    "        return False"
   ]
  },
  {
   "cell_type": "code",
   "execution_count": 34,
   "id": "cb901c16-0da5-4179-a0a0-08f9ee838eb6",
   "metadata": {},
   "outputs": [
    {
     "data": {
      "text/plain": [
       "'4.0     |'"
      ]
     },
     "execution_count": 34,
     "metadata": {},
     "output_type": "execute_result"
    }
   ],
   "source": [
    "this=float(4)\n",
    "'{0: <8}|'.format(this)"
   ]
  },
  {
   "cell_type": "code",
   "execution_count": 1,
   "id": "2fbe4cc3-ea1f-4ed1-b03c-b7831fbdcff0",
   "metadata": {},
   "outputs": [
    {
     "ename": "NameError",
     "evalue": "name 'name' is not defined",
     "output_type": "error",
     "traceback": [
      "\u001b[0;31m---------------------------------------------------------------------------\u001b[0m",
      "\u001b[0;31mNameError\u001b[0m                                 Traceback (most recent call last)",
      "\u001b[0;32m<ipython-input-1-80501154bc48>\u001b[0m in \u001b[0;36m<module>\u001b[0;34m\u001b[0m\n\u001b[0;32m----> 1\u001b[0;31m \u001b[0;32mfor\u001b[0m \u001b[0mi\u001b[0m \u001b[0;32min\u001b[0m \u001b[0mrange\u001b[0m\u001b[0;34m(\u001b[0m\u001b[0mlen\u001b[0m\u001b[0;34m(\u001b[0m\u001b[0mname\u001b[0m\u001b[0;34m)\u001b[0m\u001b[0;34m)\u001b[0m\u001b[0;34m:\u001b[0m\u001b[0;34m\u001b[0m\u001b[0;34m\u001b[0m\u001b[0m\n\u001b[0m\u001b[1;32m      2\u001b[0m     \u001b[0mprint\u001b[0m\u001b[0;34m(\u001b[0m\u001b[0;34m'{num:{width}}'\u001b[0m\u001b[0;34m.\u001b[0m\u001b[0mformat\u001b[0m\u001b[0;34m(\u001b[0m\u001b[0mnum\u001b[0m \u001b[0;34m=\u001b[0m \u001b[0mname\u001b[0m\u001b[0;34m[\u001b[0m\u001b[0mi\u001b[0m\u001b[0;34m]\u001b[0m\u001b[0;34m,\u001b[0m \u001b[0mwidth\u001b[0m \u001b[0;34m=\u001b[0m \u001b[0mmaxstr\u001b[0m\u001b[0;34m)\u001b[0m\u001b[0;34m,\u001b[0m \u001b[0;34mf' {hour[i]:4.2f}h'\u001b[0m\u001b[0;34m,\u001b[0m \u001b[0;34mf' -> {roundtip[i]:5.1f}€'\u001b[0m\u001b[0;34m,\u001b[0m \u001b[0;34mf' #  {realtip[i]:5.2f}'\u001b[0m\u001b[0;34m)\u001b[0m\u001b[0;34m\u001b[0m\u001b[0;34m\u001b[0m\u001b[0m\n\u001b[1;32m      3\u001b[0m \u001b[0;34m\u001b[0m\u001b[0m\n",
      "\u001b[0;31mNameError\u001b[0m: name 'name' is not defined"
     ]
    }
   ],
   "source": [
    "\n",
    "for i in range(len(name)):\n",
    "    print('{num:{width}}'.format(num = name[i], width = maxstr), f' {hour[i]:4.2f}h', f' -> {roundtip[i]:5.1f}€', f' #  {realtip[i]:5.2f}')\n",
    "    "
   ]
  },
  {
   "cell_type": "code",
   "execution_count": 5,
   "id": "3702fbd2-9622-4f4a-a102-6cc4453282fa",
   "metadata": {},
   "outputs": [
    {
     "name": "stdout",
     "output_type": "stream",
     "text": [
      "exit\n"
     ]
    }
   ],
   "source": [
    "import sys\n",
    "\n",
    "def abort(var):\n",
    "    if var == 'exit':\n",
    "        print(var)\n",
    "        \n",
    "abort('exit')        "
   ]
  },
  {
   "cell_type": "code",
   "execution_count": 6,
   "id": "af891c98-f040-47be-b2d9-0b3b90144a1f",
   "metadata": {},
   "outputs": [
    {
     "ename": "SystemExit",
     "evalue": "",
     "output_type": "error",
     "traceback": [
      "An exception has occurred, use %tb to see the full traceback.\n",
      "\u001b[0;31mSystemExit\u001b[0m\n"
     ]
    }
   ],
   "source": [
    "import sys\n",
    "\n",
    "def abort(var):\n",
    "    if var == 'exit':\n",
    "        sys.exit()\n",
    "        \n",
    "abort('exit') "
   ]
  },
  {
   "cell_type": "code",
   "execution_count": 8,
   "id": "c54b88b0-a307-4c77-b8dd-8a6dcd325f07",
   "metadata": {},
   "outputs": [
    {
     "data": {
      "text/plain": [
       "'23.7'"
      ]
     },
     "execution_count": 8,
     "metadata": {},
     "output_type": "execute_result"
    }
   ],
   "source": [
    "value = '23.7'\n",
    "value.replace(',', '.')"
   ]
  },
  {
   "cell_type": "code",
   "execution_count": 9,
   "id": "0774a42d-d15d-4aa7-b82d-385fe3cc8592",
   "metadata": {},
   "outputs": [
    {
     "ename": "SyntaxError",
     "evalue": "invalid syntax (<ipython-input-9-ebc2d024566e>, line 1)",
     "output_type": "error",
     "traceback": [
      "\u001b[0;36m  File \u001b[0;32m\"<ipython-input-9-ebc2d024566e>\"\u001b[0;36m, line \u001b[0;32m1\u001b[0m\n\u001b[0;31m    3*\u001b[0m\n\u001b[0m      ^\u001b[0m\n\u001b[0;31mSyntaxError\u001b[0m\u001b[0;31m:\u001b[0m invalid syntax\n"
     ]
    }
   ],
   "source": [
    "3*\n",
    "4"
   ]
  },
  {
   "cell_type": "code",
   "execution_count": 9,
   "id": "066f83d7-4002-4fd7-aa24-deb7a5b26255",
   "metadata": {},
   "outputs": [
    {
     "data": {
      "text/plain": [
       "3.0"
      ]
     },
     "execution_count": 9,
     "metadata": {},
     "output_type": "execute_result"
    }
   ],
   "source": [
    "value='3'\n",
    "float(value)"
   ]
  },
  {
   "cell_type": "code",
   "execution_count": 44,
   "id": "c5ec341c-4244-4c4f-a014-97f7dfedb67b",
   "metadata": {},
   "outputs": [
    {
     "name": "stdout",
     "output_type": "stream",
     "text": [
      "tip adjusted correctly\n",
      "0 8\n",
      "1 6\n",
      "2 5\n",
      "3 3\n",
      "4 1\n",
      "5 0\n",
      "6 8\n",
      "7 7\n",
      "[2]\n",
      "10.213\n",
      "---------------------------------\n",
      "name  0.50h  ->   0.3€  #   0.283\n",
      "name  1.00h  ->   0.6€  #   0.567\n",
      "name  1.50h  ->   0.8€  #   0.851\n",
      "name  2.00h  ->   1.1€  #   1.135\n",
      "name  2.50h  ->   1.4€  #   1.419\n",
      "name  3.00h  ->   1.7€  #   1.702\n",
      "name  3.50h  ->   2.0€  #   1.986\n",
      "name  4.00h  ->   2.3€  #   2.270\n",
      "---------------------------------\n",
      "total hours = 18.0 h\n",
      "tip ratio = 0.5676 €/h\n"
     ]
    }
   ],
   "source": [
    "#!/usr/bin/env python\n",
    "\n",
    "import numpy as np\n",
    "import sys\n",
    "import os\n",
    "import textwrap\n",
    "\n",
    "tip = [1.2349,1.2559,1.2698,1.2798,1.2898,1.2999,1.29541,1.2921]    \n",
    "tipsum = sum(tip)\n",
    "hour = [0.5*(i+1) for i in range(len(tip))]\n",
    "\n",
    "name = ['name'] * len(l)\n",
    "\n",
    "ratio = tipsum / sum(hour)\n",
    "\n",
    "realtip = np.array([ratio * i for i in hour])                   \n",
    "real = np.array([ratio * i for i in hour])\n",
    "\n",
    "roundtip = np.around(realtip, decimals=1)\n",
    "\n",
    "if np.around(sum(roundtip), decimals=3) > tipsum:\n",
    "    print(\"tip adjusted correctly\")\n",
    "    \n",
    "    check = 5\n",
    "    \n",
    "    while np.around(sum(roundtip), decimals=3) > tipsum:\n",
    "        deci = [int(i * 100) % 10 for i in real]\n",
    "        hit = [i for i, j in enumerate(deci) if j == check]\n",
    "        [print(i,j) for i,j in enumerate(deci)]\n",
    "        \n",
    "        print(hit)\n",
    "        \n",
    "        for i in hit:\n",
    "            real[i] = int(real[i] * 10) / 10\n",
    "                \n",
    "        roundtip = np.around(real, decimals=1)\n",
    "        \n",
    "        check += 1\n",
    "\n",
    "realtip = [int(i * 1000) / 1000 for i in realtip]\n",
    "print(sum(realtip))        \n",
    "\n",
    "maxstr = len(max(name, key=len))\n",
    "\n",
    "\n",
    "print('-' * (maxstr + 29))\n",
    "\n",
    "for i in range(len(name)):\n",
    "    print('{num:{width}}'.format(num = name[i], width = maxstr), f' {hour[i]:4.2f}h', f' -> {roundtip[i]:5.1f}€', f' #  {realtip[i]:6.3f}')\n",
    "    \n",
    "print('-' * (maxstr + 29))\n",
    "\n",
    "print(f'total hours = {sum(hour):} h')   \n",
    "print(f'tip ratio = {ratio:.4} €/h')"
   ]
  },
  {
   "cell_type": "code",
   "execution_count": 54,
   "id": "3fad2c85-d5c3-49b9-8c8e-64d27d08eaf5",
   "metadata": {},
   "outputs": [
    {
     "name": "stdout",
     "output_type": "stream",
     "text": [
      "tip adjusted correctly\n",
      "0 3\n",
      "1 5\n",
      "2 6\n",
      "3 5\n",
      "4 8\n",
      "5 9\n",
      "6 9\n",
      "7 9\n",
      "[1, 3]\n",
      "[1.2349, 1.2559, 1.2698, 1.2598, 1.2898, 1.2999, 1.29541, 1.2921]\n",
      "10.191999999999998\n",
      "---------------------------------\n",
      "name  ->   1.2€  #   1.234\n",
      "name  ->   1.2€  #   1.255\n",
      "name  ->   1.3€  #   1.269\n",
      "name  ->   1.2€  #   1.259\n",
      "name  ->   1.3€  #   1.289\n",
      "name  ->   1.3€  #   1.299\n",
      "name  ->   1.3€  #   1.295\n",
      "name  ->   1.3€  #   1.292\n",
      "---------------------------------\n",
      "total hours = 18.0 h\n",
      "tip ratio = 0.5676 €/h\n"
     ]
    }
   ],
   "source": [
    "#!/usr/bin/env python\n",
    "\n",
    "import numpy as np\n",
    "import sys\n",
    "import os\n",
    "import textwrap\n",
    "\n",
    "tip = [1.2349,1.2559,1.2698,1.2598,1.2898,1.2999,1.29541,1.2921]    \n",
    "\n",
    "name = ['name'] * len(l)\n",
    "\n",
    "realtip =  [1.2349,1.2559,1.2698,1.2598,1.2898,1.2999,1.29541,1.2921]                    \n",
    "real = tip\n",
    "\n",
    "roundtip = np.around(tip, decimals=1)\n",
    "\n",
    "if np.around(sum(roundtip), decimals=3) > sum(tip):\n",
    "    print(\"tip adjusted correctly\")\n",
    "    \n",
    "    check = 5\n",
    "    \n",
    "    while np.around(sum(roundtip), decimals=3) > tipsum:\n",
    "        deci = [int(i * 100) % 10 for i in real]\n",
    "        hit = [i for i, j in enumerate(deci) if j == check]\n",
    "        [print(i,j) for i,j in enumerate(deci)]\n",
    "        \n",
    "        print(hit)\n",
    "        \n",
    "        for i in hit:\n",
    "            real[i] = int(real[i] * 10) / 10.\n",
    "                \n",
    "        roundtip = np.around(real, decimals=1)\n",
    "        \n",
    "        check += 1\n",
    "\n",
    "print(realtip)\n",
    "realtip = [int(i * 1000) / 1000. for i in realtip]\n",
    "print(sum(realtip))        \n",
    "\n",
    "maxstr = len(max(name, key=len))\n",
    "\n",
    "\n",
    "print('-' * (maxstr + 29))\n",
    "\n",
    "for i in range(len(name)):\n",
    "    print('{num:{width}}'.format(num = name[i], width = maxstr), f' -> {roundtip[i]:5.1f}€', f' #  {realtip[i]:6.3f}')\n",
    "    \n",
    "print('-' * (maxstr + 29))\n",
    "\n",
    "print(f'total hours = {sum(hour):} h')   \n",
    "print(f'tip ratio = {ratio:.4} €/h')"
   ]
  },
  {
   "cell_type": "code",
   "execution_count": 1,
   "id": "40ec67a3-22cd-4679-8d9d-6b4337251403",
   "metadata": {},
   "outputs": [
    {
     "data": {
      "text/plain": [
       "True"
      ]
     },
     "execution_count": 1,
     "metadata": {},
     "output_type": "execute_result"
    }
   ],
   "source": [
    "name = []\n",
    "name != 0"
   ]
  },
  {
   "cell_type": "code",
   "execution_count": 4,
   "id": "8e6abede-fa04-4b27-bbfb-77e49d5c3a21",
   "metadata": {},
   "outputs": [
    {
     "name": "stdout",
     "output_type": "stream",
     "text": [
      "False\n"
     ]
    }
   ],
   "source": [
    "string = 'grace'\n",
    "print((('bester barista' or 'beste barista') or 'besten barista') in string)"
   ]
  },
  {
   "cell_type": "code",
   "execution_count": 7,
   "id": "8e352533-b3d2-47e6-9602-62ff34d3766d",
   "metadata": {},
   "outputs": [
    {
     "name": "stdout",
     "output_type": "stream",
     "text": [
      "beste barista\n",
      "grace\n"
     ]
    }
   ],
   "source": [
    "string = 'grace'\n",
    "print('beste barista' or 'besten barista' in string)\n",
    "print(string)"
   ]
  },
  {
   "cell_type": "code",
   "execution_count": 10,
   "id": "60e064f3-51b1-40dd-8111-126940253a5e",
   "metadata": {},
   "outputs": [
    {
     "data": {
      "text/plain": [
       "True"
      ]
     },
     "execution_count": 10,
     "metadata": {},
     "output_type": "execute_result"
    }
   ],
   "source": [
    "string = 'sina ist beste barista'\n",
    "bestbarista = ['bester barista', 'besten barista', 'beste barista', 'best barista']\n",
    "any(s in string for s in bestbarista)"
   ]
  },
  {
   "cell_type": "code",
   "execution_count": 11,
   "id": "a93a0e83-41cd-495b-88cc-17e5e1ed9879",
   "metadata": {},
   "outputs": [
    {
     "name": "stdout",
     "output_type": "stream",
     "text": [
      "18.08.2022, Thursday, time: 17:43\n"
     ]
    }
   ],
   "source": [
    "from datetime import date, datetime\n",
    "\n",
    "today = date.today().strftime(\"%d.%m.%Y\") + ', ' + date.today().strftime(\"%A\") + ', time: ' + datetime.now().strftime(\"%H:%M\")\n",
    "print(today)"
   ]
  },
  {
   "cell_type": "code",
   "execution_count": 41,
   "id": "14e50d1f-c51a-4cfb-82d9-c9c851d9db46",
   "metadata": {},
   "outputs": [
    {
     "name": "stdout",
     "output_type": "stream",
     "text": [
      "07.11.2022, Monday, time: 19:39\n"
     ]
    },
    {
     "name": "stdin",
     "output_type": "stream",
     "text": [
      "1. Name =  0\n"
     ]
    },
    {
     "name": "stdout",
     "output_type": "stream",
     "text": [
      "Gib mindestens einen Namen ein!\n",
      "Bei Eingabe von 0 wird die Nameneingabe abgebrochen!\n"
     ]
    },
    {
     "name": "stdin",
     "output_type": "stream",
     "text": [
      "1. Name =  exit\n"
     ]
    },
    {
     "name": "stdout",
     "output_type": "stream",
     "text": [
      "Exited session.\n"
     ]
    },
    {
     "ename": "SystemExit",
     "evalue": "",
     "output_type": "error",
     "traceback": [
      "An exception has occurred, use %tb to see the full traceback.\n",
      "\u001b[0;31mSystemExit\u001b[0m\n"
     ]
    }
   ],
   "source": [
    "import numpy as np\n",
    "import sys\n",
    "import os\n",
    "import textwrap\n",
    "from datetime import date, datetime\n",
    "\n",
    "def tmode():\n",
    "    for i in range(1, 100):\n",
    "        while True:\n",
    "            try:\n",
    "                value = float(abort(input('{}{}{}{} = '.format(i, '.', ' ' * (3 - len(str(i))), \"Hour\"))))\n",
    "            except ValueError:\n",
    "                print('input error')\n",
    "                continue\n",
    "            else:\n",
    "                break\n",
    "            \n",
    "        hour.append(float(str(value).replace(',', '.')))\n",
    "        \n",
    "        if hour[-1] > 11:\n",
    "            tipsum = float(hour.pop())\n",
    "            break\n",
    "    \n",
    "    ratio = tipsum / sum(hour)\n",
    "\n",
    "    realtip = np.array([ratio * i for i in hour])                   \n",
    "    real = np.array([ratio * i for i in hour])\n",
    "\n",
    "    roundtip = np.around(realtip, decimals=1)\n",
    "\n",
    "    if np.around(sum(roundtip), decimals=3) > tipsum:\n",
    "        print(\"tip adjusted correctly\")\n",
    "\n",
    "        check = 5\n",
    "\n",
    "        while np.around(sum(roundtip), decimals=3) > tipsum:\n",
    "            deci = [int(i * 100) % 10 for i in real]\n",
    "            hit = [i for i, j in enumerate(deci) if j == check]\n",
    "\n",
    "            for i in hit:\n",
    "                real[i] = int(real[i] * 10) / 10\n",
    "\n",
    "            roundtip = np.around(real, decimals=1)\n",
    "\n",
    "            check += 1\n",
    "\n",
    "    realtip = [int(i * 1000) / 1000. for i in realtip]\n",
    "    \n",
    "    space = '.' + ' '\n",
    "            \n",
    "    print('-' *  32)\n",
    "\n",
    "    for i in range(len(hour)):\n",
    "        print(i+1, '\"', ' ' * (4 - len(str(i+1))), f'{hour[i]:4.2f}h ', f' -> {roundtip[i]:5.1f}€ ', f' #  {realtip[i]:6.3f}', sep='')\n",
    "\n",
    "    print('-' * 32)\n",
    "\n",
    "    print(f'total hours = {sum(hour):} h')   \n",
    "    print(f'tip ratio = {ratio:.4} €/h')\n",
    "            \n",
    "            \n",
    "def normal(value, name, hour):\n",
    "    i = 1\n",
    "    \n",
    "    while True:\n",
    "        if value == '0':\n",
    "            print('Gib mindestens einen Namen ein!\\nBei Eingabe von 0 wird die Nameneingabe abgebrochen!')\n",
    "            value = abort(input('{}{} = '.format(i, \". Name\")))\n",
    "\n",
    "        elif easteregg(value) != False:\n",
    "            value = abort(input('{}{} = '.format(i, \". Name\")))\n",
    "\n",
    "        else:\n",
    "            break\n",
    "\n",
    "    name.append(value)\n",
    "    \n",
    "    while '0' not in name:    \n",
    "        while True:\n",
    "            try:\n",
    "                value = abort(input('{} = '.format(\"   Hour\")))\n",
    "\n",
    "                if easteregg(value) != False:\n",
    "                    continue\n",
    "\n",
    "                hour.append(float(value.replace(',', '.')))\n",
    "\n",
    "            except ValueError:\n",
    "                print('Gib nur eine Zahl ein für die Stunden!')\n",
    "                continue\n",
    "\n",
    "            else:\n",
    "                break\n",
    "\n",
    "        i += 1\n",
    "        value = abort(input('{}{} = '.format(i, \". Name\")))\n",
    "\n",
    "        while easteregg(value) != False:\n",
    "            value = abort(input('{}{} = '.format(i, \". Name\")))\n",
    "\n",
    "        name.append(value)\n",
    "\n",
    "    name = name[:-1]\n",
    "\n",
    "    while True:\n",
    "        try:\n",
    "            tipsum = abort(input(\"total tip = \"))\n",
    "\n",
    "            if easteregg(tipsum) != False:\n",
    "                continue\n",
    "\n",
    "            tipsum = float(tipsum.replace(',', '.'))\n",
    "\n",
    "        except ValueError:\n",
    "            print('Gib nur eine Zahl ein für das gesamte Trinkgeld!')\n",
    "            continue\n",
    "\n",
    "        else:\n",
    "            break\n",
    "\n",
    "    ratio = tipsum / sum(hour)\n",
    "\n",
    "    realtip = np.array([ratio * i for i in hour])                   \n",
    "    real = np.array([ratio * i for i in hour])\n",
    "\n",
    "    roundtip = np.around(realtip, decimals=1)\n",
    "\n",
    "    if np.around(sum(roundtip), decimals=3) > tipsum:\n",
    "        print(\"tip adjusted correctly\")\n",
    "\n",
    "        check = 5\n",
    "\n",
    "        while np.around(sum(roundtip), decimals=3) > tipsum:\n",
    "            deci = [int(i * 100) % 10 for i in real]\n",
    "            hit = [i for i, j in enumerate(deci) if j == check]\n",
    "\n",
    "            for i in hit:\n",
    "                real[i] = int(real[i] * 10) / 10\n",
    "\n",
    "            roundtip = np.around(real, decimals=1)\n",
    "\n",
    "            check += 1\n",
    "\n",
    "    realtip = [int(i * 1000) / 1000. for i in realtip]        \n",
    "\n",
    "    maxstr = len(max(name, key=len))\n",
    "\n",
    "    print('-' * (maxstr + 29))\n",
    "\n",
    "    for i in range(len(name)):\n",
    "        print('{num:{width}}'.format(num = name[i], width = maxstr), f' {hour[i]:4.2f}h', f' -> {roundtip[i]:5.1f}€', f' #  {realtip[i]:6.3f}')\n",
    "\n",
    "    print('-' * (maxstr + 29))\n",
    "\n",
    "    print(f'total hours = {sum(hour):} h')   \n",
    "    print(f'tip ratio = {ratio:.4} €/h')\n",
    "\n",
    "name = []\n",
    "hour = []\n",
    "i = 1\n",
    "\n",
    "today = date.today().strftime(\"%d.%m.%Y\") + ', ' + date.today().strftime(\"%A\") + ', time: ' + datetime.now().strftime(\"%H:%M\")\n",
    "print(today)\n",
    "\n",
    "value = abort(input('{}{} = '.format(i, \". Name\")))\n",
    "\n",
    "if value == 'tmode':\n",
    "    tmode()\n",
    "else:\n",
    "    normal(value, name, hour)"
   ]
  },
  {
   "cell_type": "code",
   "execution_count": 6,
   "id": "a115b5be-2094-457c-99bc-5cafc484cd65",
   "metadata": {},
   "outputs": [
    {
     "name": "stdout",
     "output_type": "stream",
     "text": [
      "hi\n"
     ]
    }
   ],
   "source": [
    "print('hi')"
   ]
  },
  {
   "cell_type": "code",
   "execution_count": 17,
   "id": "07ebc3ec-805f-4eff-801a-27692c2b80bf",
   "metadata": {},
   "outputs": [
    {
     "name": "stdout",
     "output_type": "stream",
     "text": [
      "1\n",
      "2\n",
      "3\n",
      "4\n",
      "5\n",
      "6\n",
      "7\n",
      "8\n",
      "9\n"
     ]
    }
   ],
   "source": [
    "for i in range(1, 10):\n",
    "    print(i)"
   ]
  },
  {
   "cell_type": "code",
   "execution_count": 21,
   "id": "1000cd2e-2eda-4778-85c6-720d6a5dff93",
   "metadata": {},
   "outputs": [
    {
     "ename": "AttributeError",
     "evalue": "'int' object has no attribute 'replace'",
     "output_type": "error",
     "traceback": [
      "\u001b[0;31m---------------------------------------------------------------------------\u001b[0m",
      "\u001b[0;31mAttributeError\u001b[0m                            Traceback (most recent call last)",
      "\u001b[0;32m<ipython-input-21-99c28f444a9d>\u001b[0m in \u001b[0;36m<module>\u001b[0;34m\u001b[0m\n\u001b[1;32m      1\u001b[0m \u001b[0ma\u001b[0m \u001b[0;34m=\u001b[0m \u001b[0;34m[\u001b[0m\u001b[0;36m123\u001b[0m\u001b[0;34m,\u001b[0m \u001b[0;36m123\u001b[0m\u001b[0;34m,\u001b[0m \u001b[0;36m123\u001b[0m\u001b[0;34m]\u001b[0m\u001b[0;34m\u001b[0m\u001b[0;34m\u001b[0m\u001b[0m\n\u001b[0;32m----> 2\u001b[0;31m \u001b[0ma\u001b[0m\u001b[0;34m.\u001b[0m\u001b[0mpop\u001b[0m\u001b[0;34m(\u001b[0m\u001b[0;34m)\u001b[0m\u001b[0;34m.\u001b[0m\u001b[0mreplace\u001b[0m\u001b[0;34m(\u001b[0m\u001b[0;34m','\u001b[0m\u001b[0;34m,\u001b[0m \u001b[0;34m'.'\u001b[0m\u001b[0;34m)\u001b[0m\u001b[0;34m\u001b[0m\u001b[0;34m\u001b[0m\u001b[0m\n\u001b[0m",
      "\u001b[0;31mAttributeError\u001b[0m: 'int' object has no attribute 'replace'"
     ]
    }
   ],
   "source": [
    "a = [123, 123, 123]\n",
    "a.pop().replace(',', '.')"
   ]
  },
  {
   "cell_type": "code",
   "execution_count": 26,
   "id": "0ce6f9aa-4036-4fdf-a973-04a63499e797",
   "metadata": {},
   "outputs": [
    {
     "data": {
      "text/plain": [
       "2"
      ]
     },
     "execution_count": 26,
     "metadata": {},
     "output_type": "execute_result"
    }
   ],
   "source": [
    "len(str(10))"
   ]
  },
  {
   "cell_type": "code",
   "execution_count": 2,
   "id": "9d58e1d3-000b-44a5-8a34-3047919f598d",
   "metadata": {},
   "outputs": [
    {
     "name": "stdout",
     "output_type": "stream",
     "text": [
      "0101\n",
      "101\n"
     ]
    }
   ],
   "source": [
    "from datetime import date, datetime\n",
    "print(date.today().strftime(\"%d%m\"))\n",
    "print(int(date.today().strftime(\"%m%d\")))"
   ]
  },
  {
   "cell_type": "code",
   "execution_count": 1,
   "id": "5360d124-df48-47ad-9985-82f5a8165043",
   "metadata": {},
   "outputs": [
    {
     "name": "stdout",
     "output_type": "stream",
     "text": [
      "2023-01-01\n",
      "2023-01-02\n",
      "2023-01-03\n",
      "2023-01-04\n",
      "2023-01-05\n",
      "2024-01-01\n",
      "2024-01-02\n",
      "2024-01-03\n",
      "2024-01-04\n",
      "2024-01-05\n"
     ]
    }
   ],
   "source": [
    "import datetime\n",
    "for i in range(400):\n",
    "    d = datetime.date.today() + datetime.timedelta(days=i)\n",
    "    if int(d.strftime(\"%m%d\")) <= 105:\n",
    "        print(d)"
   ]
  },
  {
   "cell_type": "code",
   "execution_count": null,
   "id": "cc98a712-f6d8-4b1c-ae13-a70080acbb29",
   "metadata": {},
   "outputs": [],
   "source": []
  }
 ],
 "metadata": {
  "kernelspec": {
   "display_name": "Python 3",
   "language": "python",
   "name": "python3"
  },
  "language_info": {
   "codemirror_mode": {
    "name": "ipython",
    "version": 3
   },
   "file_extension": ".py",
   "mimetype": "text/x-python",
   "name": "python",
   "nbconvert_exporter": "python",
   "pygments_lexer": "ipython3",
   "version": "3.8.10"
  }
 },
 "nbformat": 4,
 "nbformat_minor": 5
}
